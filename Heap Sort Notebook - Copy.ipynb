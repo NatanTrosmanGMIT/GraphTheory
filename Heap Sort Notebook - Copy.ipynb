{
 "cells": [
  {
   "cell_type": "markdown",
   "id": "ec8371fa",
   "metadata": {},
   "source": [
    "\n",
    "# Heapsort\n",
    "***\n",
    "Heap sort is a comparison-based sorting technique based on Binary Heap data structure. It's similar to 'selection' sort where we first find the minimum element and place the minimum element at the beginning. We repeat the same process for the remaining elements. \n",
    "To fully understand what heapsort is, we first have to break it down.\n",
    "\n",
    "### What is a Heap?\n",
    "\n",
    "**Binary Meaning :**\n",
    "\n",
    "*relating to, composed of, or involving two things.*\n",
    "\n",
    "**Complete Binary Tree :**\n",
    "\n",
    "A complete binary tree is a binary tree in which every level, except possibly the last, is completely filled, and all nodes are as far left as possible \n",
    "\n",
    "**A Binary Heap  :**\n",
    "\n",
    "A Binary Heap is a Complete Binary Tree where items are stored in a special order such that the value in a parent node is greater(or smaller) than the values in its two children nodes. The former is called max heap and the latter is called min-heap. The heap can be represented by a binary tree or array.\n",
    "\n",
    "**Types of Nodes :**\n",
    "1. Root Node : Is either the topmost or the bottom node in a tree, depending on how the tree is represented visually.\n",
    " \n",
    "2. Parent Node : The node which is a predecessor of any node.\n",
    " \n",
    "3. Child Node : Any subnode of a given node is called a child node.\n",
    "\n",
    "4. Leaf Node : The node which doesn't have a child.\n",
    "\n",
    "**Representation for Binary Heap :**\n",
    "\n",
    "Since a Binary Heap is a Complete Binary Tree, it can be easily represented as an array, which also helps with space.\n",
    "\n",
    "*If the parent node is stored at index i, the left child can be calculated by **2 * i + 1 and the right child by 2 * i + 2** (assuming the indexing starts at 0)*\n",
    "\n",
    "**How to “heapify” a tree :**\n",
    "\n",
    "The process of reshaping a binary tree into a Heap data structure is known as ‘heapify’. A binary tree is a tree data structure two child nodes at max. If a node’s children nodes are ‘heapified’, then only ‘heapify’ process can be applied over that node. A heap should always be a complete binary tree. \n",
    "\n",
    "Starting from a complete binary tree, we can modify it to become a Max-Heap by running a function called ‘heapify’ on all the non-leaf elements of the heap. i.e. ‘heapify’ uses recursion.\n",
    "\n",
    "\n",
    "\n",
    "ref: https://www.geeksforgeeks.org/heap-sort/\n",
    "\n",
    "### Lists"
   ]
  },
  {
   "cell_type": "code",
   "execution_count": 1,
   "id": "b2c7b3f4",
   "metadata": {},
   "outputs": [
    {
     "data": {
      "text/plain": [
       "30"
      ]
     },
     "execution_count": 1,
     "metadata": {},
     "output_type": "execute_result"
    }
   ],
   "source": [
    "# You can create a list in Python by using square brackets.\n",
    "L = [10,20,30, None, False,\"This is the last element on the list\"]\n",
    "\n",
    "# Lists are zero indexed (They start at 0).\n",
    "L[2]"
   ]
  },
  {
   "cell_type": "code",
   "execution_count": 2,
   "id": "0409e4b0",
   "metadata": {},
   "outputs": [
    {
     "data": {
      "text/plain": [
       "'This is the last element on the list'"
      ]
     },
     "execution_count": 2,
     "metadata": {},
     "output_type": "execute_result"
    }
   ],
   "source": [
    "# You can also use Negative indexing.\n",
    "L[-1]"
   ]
  },
  {
   "cell_type": "code",
   "execution_count": 3,
   "id": "4016f928",
   "metadata": {},
   "outputs": [
    {
     "data": {
      "text/plain": [
       "10"
      ]
     },
     "execution_count": 3,
     "metadata": {},
     "output_type": "execute_result"
    }
   ],
   "source": [
    "# If you exceed the items in the list in your index, You will get an error.\n",
    "L[-6]"
   ]
  },
  {
   "cell_type": "code",
   "execution_count": 4,
   "id": "dc7bdea9",
   "metadata": {},
   "outputs": [
    {
     "data": {
      "text/plain": [
       "[0, 5, 10, 15, 20, 25, 30, 35, 40, 45, 50, 55, 60, 65, 70, 75, 80, 85, 90, 95]"
      ]
     },
     "execution_count": 4,
     "metadata": {},
     "output_type": "execute_result"
    }
   ],
   "source": [
    "# There is a built-in funtcion that create iterables.\n",
    "# range(start, stop[, step]).\n",
    "list(range(0, 100, 5))"
   ]
  },
  {
   "cell_type": "code",
   "execution_count": 5,
   "id": "326d8940",
   "metadata": {},
   "outputs": [
    {
     "data": {
      "text/plain": [
       "[0, 1, 2, 3, 4, 5, 6, 7, 8, 9, 10, 11, 12, 13, 14, 15, 16, 17, 18, 19, 20, 21]"
      ]
     },
     "execution_count": 5,
     "metadata": {},
     "output_type": "execute_result"
    }
   ],
   "source": [
    "# In-built functions for creating iterables.\n",
    "# range(length).\n",
    "L = list(range(22))\n",
    "L"
   ]
  },
  {
   "cell_type": "code",
   "execution_count": 6,
   "id": "c14a030f",
   "metadata": {},
   "outputs": [
    {
     "data": {
      "text/plain": [
       "[2, 4, 6, 8, 10, 12, 14, 16, 18, 20]"
      ]
     },
     "execution_count": 6,
     "metadata": {},
     "output_type": "execute_result"
    }
   ],
   "source": [
    "# List slicing.\n",
    "# L[start:stop:step].\n",
    "L[2:22:2]"
   ]
  },
  {
   "cell_type": "code",
   "execution_count": 7,
   "id": "97257c93",
   "metadata": {},
   "outputs": [
    {
     "data": {
      "text/plain": [
       "[2, 3, 4, 5, 6, 7, 8, 9, 10, 11, 12, 13, 14, 15, 16]"
      ]
     },
     "execution_count": 7,
     "metadata": {},
     "output_type": "execute_result"
    }
   ],
   "source": [
    "# For list slicing, you only have to specify one value.\n",
    "# So start at 2 and stop at 17.\n",
    "L[2:17]"
   ]
  },
  {
   "cell_type": "code",
   "execution_count": 8,
   "id": "30afcd72",
   "metadata": {},
   "outputs": [
    {
     "data": {
      "text/plain": [
       "[4, 5, 6, 7, 8, 9, 10, 11, 12, 13, 14, 15, 16, 17, 18, 19, 20, 21]"
      ]
     },
     "execution_count": 8,
     "metadata": {},
     "output_type": "execute_result"
    }
   ],
   "source": [
    "# Start at 4.\n",
    "L[4:]"
   ]
  },
  {
   "cell_type": "code",
   "execution_count": 9,
   "id": "2dfd2847",
   "metadata": {},
   "outputs": [
    {
     "data": {
      "text/plain": [
       "[0, 1, 2, 3, 4, 5, 6, 7, 8, 9, 10, 11, 12, 13, 14, 15]"
      ]
     },
     "execution_count": 9,
     "metadata": {},
     "output_type": "execute_result"
    }
   ],
   "source": [
    "# Stop at 16.\n",
    "L[:16]"
   ]
  },
  {
   "cell_type": "code",
   "execution_count": 10,
   "id": "9975b0e5",
   "metadata": {},
   "outputs": [
    {
     "data": {
      "text/plain": [
       "[0, 2, 4, 6, 8, 10, 12, 14, 16, 18, 20]"
      ]
     },
     "execution_count": 10,
     "metadata": {},
     "output_type": "execute_result"
    }
   ],
   "source": [
    "# Python make it very easy to manipulate the list as you like.\n",
    "# You can even just specify the step and it will default the other values.\n",
    "L[::2]"
   ]
  },
  {
   "cell_type": "code",
   "execution_count": 11,
   "id": "e1559132",
   "metadata": {},
   "outputs": [
    {
     "data": {
      "text/plain": [
       "[5, 6, 7, 8, 9, 10, 11, 12, 13, 14, 15, 16, 17, 18, 19, 20, 21, 0, 1, 2, 3, 4]"
      ]
     },
     "execution_count": 11,
     "metadata": {},
     "output_type": "execute_result"
    }
   ],
   "source": [
    "# Quick way to cycle the list to the left.\n",
    "# This will move the first 5 number to the end of the list\n",
    "# If the ':' is to the right of the i, it means the beginning.\n",
    "i = 5\n",
    "L[i:] + L[:i]"
   ]
  },
  {
   "cell_type": "markdown",
   "id": "b3c5debf",
   "metadata": {},
   "source": [
    "### Tuples and immutability.\n",
    "\n",
    "In object-oriented and functional programming, an immutable object (unchangeable object) is an object whose state cannot be modified after it is created. This is in contrast to a mutable object (changeable object), which can be modified after it is created. \n",
    "\n",
    "ref: https://en.wikipedia.org/wiki/Immutable_object#:~:text=In%20object%2Doriented%20and%20functional,modified%20after%20it%20is%20created.\n",
    "\n",
    "Just like lists, you can slice and select elements as you like. But tuples cannot be changed after they've been declared"
   ]
  },
  {
   "cell_type": "code",
   "execution_count": 12,
   "id": "5ace7106",
   "metadata": {},
   "outputs": [
    {
     "data": {
      "text/plain": [
       "6"
      ]
     },
     "execution_count": 12,
     "metadata": {},
     "output_type": "execute_result"
    }
   ],
   "source": [
    "T = (2,4,6,8,10)\n",
    "# Select elements.\n",
    "T[2]"
   ]
  },
  {
   "cell_type": "code",
   "execution_count": 13,
   "id": "e52049c3",
   "metadata": {},
   "outputs": [
    {
     "data": {
      "text/plain": [
       "(6, 8, 10)"
      ]
     },
     "execution_count": 13,
     "metadata": {},
     "output_type": "execute_result"
    }
   ],
   "source": [
    "# Slice.\n",
    "T[2:]"
   ]
  },
  {
   "cell_type": "code",
   "execution_count": 14,
   "id": "07c69c2b",
   "metadata": {},
   "outputs": [
    {
     "data": {
      "text/plain": [
       "(2, 6, 10)"
      ]
     },
     "execution_count": 14,
     "metadata": {},
     "output_type": "execute_result"
    }
   ],
   "source": [
    "# Step.\n",
    "T[::2]"
   ]
  },
  {
   "cell_type": "code",
   "execution_count": 15,
   "id": "29a109a9",
   "metadata": {},
   "outputs": [],
   "source": [
    "# So you wouldn't be able to declare something like this,\n",
    "# otherwise you would get an error.\n",
    "# T[2] = 100"
   ]
  },
  {
   "cell_type": "code",
   "execution_count": 16,
   "id": "ffe27721",
   "metadata": {},
   "outputs": [
    {
     "data": {
      "text/plain": [
       "(2, 4, 6, 8, 10)"
      ]
     },
     "execution_count": 16,
     "metadata": {},
     "output_type": "execute_result"
    }
   ],
   "source": [
    "# For tuples you heave to create them with comma's instead of round brackets.\n",
    "# Technically, the round broackets for the tuple above are redundant.\n",
    "T = 2, 4, 6, 8, 10\n",
    "T"
   ]
  },
  {
   "cell_type": "code",
   "execution_count": 17,
   "id": "29d8016e",
   "metadata": {},
   "outputs": [
    {
     "data": {
      "text/plain": [
       "((1, 2), 1, 2)"
      ]
     },
     "execution_count": 17,
     "metadata": {},
     "output_type": "execute_result"
    }
   ],
   "source": [
    "# You can also use tuples for assingment\n",
    "a, b = 1, 2\n",
    "(a, b), a, b\n",
    "# NOTE: You can print these values out individually, this was done for aesthitic purposes."
   ]
  },
  {
   "cell_type": "code",
   "execution_count": 18,
   "id": "7530851c",
   "metadata": {},
   "outputs": [
    {
     "data": {
      "text/plain": [
       "(2, 1)"
      ]
     },
     "execution_count": 18,
     "metadata": {},
     "output_type": "execute_result"
    }
   ],
   "source": [
    "# Very handy trick for swapping values\n",
    "a, b = b, a\n",
    "(a, b)"
   ]
  },
  {
   "cell_type": "markdown",
   "id": "9b380e50",
   "metadata": {},
   "source": [
    "#### List comprehension.\n",
    "\n",
    "In python there's a feature that lets you do a for loop, within a list.\n",
    "so if we a list called 'L' and we wanted to put the values in 'L' to the power of something.\n",
    "it would look like this: "
   ]
  },
  {
   "cell_type": "code",
   "execution_count": 19,
   "id": "a0ac8c05",
   "metadata": {},
   "outputs": [
    {
     "data": {
      "text/plain": [
       "[0, 1, 2, 3, 4, 5, 6, 7, 8, 9, 10, 11, 12, 13, 14]"
      ]
     },
     "execution_count": 19,
     "metadata": {},
     "output_type": "execute_result"
    }
   ],
   "source": [
    "# Create the list\n",
    "L = list(range(15))\n",
    "L"
   ]
  },
  {
   "cell_type": "code",
   "execution_count": 20,
   "id": "5beeda4a",
   "metadata": {},
   "outputs": [
    {
     "data": {
      "text/plain": [
       "[0, 1, 8, 27, 64, 125, 216, 343, 512, 729, 1000, 1331, 1728, 2197, 2744]"
      ]
     },
     "execution_count": 20,
     "metadata": {},
     "output_type": "execute_result"
    }
   ],
   "source": [
    "# A double asterix is the symbol for to the power of \n",
    "[i**3 for i in L]"
   ]
  },
  {
   "cell_type": "code",
   "execution_count": 21,
   "id": "5e501139",
   "metadata": {},
   "outputs": [
    {
     "data": {
      "text/plain": [
       "[0, 8, 64, 216, 512, 1000, 1728, 2744]"
      ]
     },
     "execution_count": 21,
     "metadata": {},
     "output_type": "execute_result"
    }
   ],
   "source": [
    "# You can even get a little bit more advanced with it\n",
    "[i**3 for i in L if i % 2 == 0]"
   ]
  },
  {
   "cell_type": "code",
   "execution_count": 22,
   "id": "86a319ca",
   "metadata": {},
   "outputs": [
    {
     "data": {
      "text/plain": [
       "[14, 13, 12, 11, 10, 9, 8, 7, 6, 5, 4, 3, 2, 1, 0]"
      ]
     },
     "execution_count": 22,
     "metadata": {},
     "output_type": "execute_result"
    }
   ],
   "source": [
    "# You can also reverse a list by adding [::-1]\n",
    "L[::-1]"
   ]
  },
  {
   "attachments": {
    "image.png": {
     "image/png": "[encoded data removed]"
    }
   },
   "cell_type": "markdown",
   "id": "d6abfb67",
   "metadata": {},
   "source": [
    "## Bubble Sort\n",
    "***\n",
    "Bubble sort, sometimes referred to as sinking sort, is a simple sorting algorithm that repeatedly steps through the list, compares adjacent elements and swaps them if they are in the wrong order. The pass through the list is repeated until the list is sorted.\n",
    "\n",
    "ref: https://en.wikipedia.org/wiki/Bubble_sort#:~:text=Bubble%20sort%2C%20sometimes%20referred%20to,until%20the%20list%20is%20sorted.\n",
    "\n",
    "####  Worst and Average Case Time Complexity:\n",
    "O(n*n). The worst-case occurs when an array is reverse sorted.\n",
    "Best Case Time Complexity: O(n). The best-case occurs when an array is already sorted.\n",
    "\n",
    "Due to its simplicity, bubble sort is often used to introduce the concept of a sorting algorithm. \n",
    "In computer graphics, it is popular for its capability to detect a very small error (like swap of just two elements) in almost-sorted arrays and fix it with just linear complexity (2n). For example, it is used in a polygon filling algorithm, where bounding lines are sorted by their x coordinate at a specific scan line (a line parallel to x-axis) and with incrementing y their order changes (two elements are swapped) only at intersections of two lines.\n",
    "\n",
    "![image.png](attachment:image.png)\n",
    "\n",
    "We're looking at Bubble sort here so that we can then compare it to Heap sort and so we have a benchmark. This is made clear in the Comparing Algorithms section further ahead."
   ]
  },
  {
   "cell_type": "code",
   "execution_count": 23,
   "id": "c5224297",
   "metadata": {},
   "outputs": [],
   "source": [
    "# Import a module from the standard library.\n",
    "import random"
   ]
  },
  {
   "cell_type": "code",
   "execution_count": 24,
   "id": "8c56f4d4",
   "metadata": {},
   "outputs": [
    {
     "data": {
      "text/plain": [
       "[11, 12, 13, 14, 15, 16, 17, 18, 19, 20, 21]"
      ]
     },
     "execution_count": 24,
     "metadata": {},
     "output_type": "execute_result"
    }
   ],
   "source": [
    "# Create a list of integers.\n",
    "L = list(range(11, 22))\n",
    "L"
   ]
  },
  {
   "cell_type": "code",
   "execution_count": 25,
   "id": "2b69f3b5",
   "metadata": {},
   "outputs": [
    {
     "data": {
      "text/plain": [
       "[16, 17, 12, 19, 11, 14, 13, 15, 21, 20, 18]"
      ]
     },
     "execution_count": 25,
     "metadata": {},
     "output_type": "execute_result"
    }
   ],
   "source": [
    "# Shuffle the list.\n",
    "random.shuffle(L)\n",
    "L"
   ]
  },
  {
   "cell_type": "code",
   "execution_count": 26,
   "id": "30aa4e34",
   "metadata": {},
   "outputs": [
    {
     "data": {
      "text/plain": [
       "[11, 12, 13, 14, 15, 16, 17, 18, 19, 20, 21]"
      ]
     },
     "execution_count": 26,
     "metadata": {},
     "output_type": "execute_result"
    }
   ],
   "source": [
    "# Bubble sort.\n",
    "\n",
    "# Keeps track of number of comparisons.\n",
    "no_comparisons = 0\n",
    "\n",
    "# Bubble every (biggest) element up.\n",
    "for j in range(len(L) - 1):\n",
    "    # Keep track of any swaps.\n",
    "    swapped = False\n",
    "    # Compare all elements that are side by side.\n",
    "    for i in range(len(L) - 1):\n",
    "        # Compare i with (i+1) - i being the element in the list.\n",
    "        if L[i] > L[i+1]:\n",
    "            # Swap the elements - with the same trick we saw earlier.\n",
    "            L[i], L[i+1] = L[i+1], L[i]\n",
    "            # Keep track of the swap.\n",
    "            swapped = True\n",
    "        # Add a comparison.\n",
    "        no_comparisons = no_comparisons + 1\n",
    "    # Quit if we didn't make any swaps.\n",
    "    if not swapped:\n",
    "        break\n",
    "# Print out the now ordered list     \n",
    "L"
   ]
  },
  {
   "cell_type": "code",
   "execution_count": 27,
   "id": "89db6c45",
   "metadata": {},
   "outputs": [
    {
     "data": {
      "text/plain": [
       "50"
      ]
     },
     "execution_count": 27,
     "metadata": {},
     "output_type": "execute_result"
    }
   ],
   "source": [
    " no_comparisons"
   ]
  },
  {
   "cell_type": "code",
   "execution_count": 28,
   "id": "b7f71229",
   "metadata": {},
   "outputs": [],
   "source": [
    "# Bubble sort as a function - this is the same code but in a function, so we can use it whenever we like.\n",
    "def bubble_sort(L):\n",
    "    # Keep track of number of comparisons.\n",
    "    no_comparisons = 0\n",
    "\n",
    "    # Bubble every (biggest) element up.\n",
    "    for j in range(len(L) - 1):\n",
    "        # Keep track of any swaps.\n",
    "        swapped = False\n",
    "        # Compare all elements that are side by side.\n",
    "        for i in range(len(L) - 1 - j):\n",
    "            # Compare the ith element with the (i+1)th.\n",
    "            if L[i] > L[i+1]:\n",
    "                # Swap the elements.\n",
    "                L[i], L[i+1] = L[i+1], L[i]\n",
    "                # Keep track of the swap.\n",
    "                swapped = True\n",
    "            # Add a comparison.\n",
    "            no_comparisons = no_comparisons + 1\n",
    "        # Quit if we didn't make any swaps.\n",
    "        if not swapped:\n",
    "            break\n",
    "    # Return the number of comparisons made.\n",
    "    return no_comparisons"
   ]
  },
  {
   "cell_type": "code",
   "execution_count": 29,
   "id": "b37b2f34",
   "metadata": {},
   "outputs": [
    {
     "data": {
      "text/plain": [
       "[19, 20, 12, 13, 14, 16, 11, 18, 17, 15, 21]"
      ]
     },
     "execution_count": 29,
     "metadata": {},
     "output_type": "execute_result"
    }
   ],
   "source": [
    "# To use the function, we just need to do these 4 things:\n",
    "\n",
    "# Create a list.\n",
    "L = list(range(11, 22))\n",
    "\n",
    "# Shuffle it.\n",
    "random.shuffle(L)\n",
    "\n",
    "# Look at it.\n",
    "L"
   ]
  },
  {
   "cell_type": "code",
   "execution_count": 30,
   "id": "ac5be9f4",
   "metadata": {},
   "outputs": [
    {
     "data": {
      "text/plain": [
       "49"
      ]
     },
     "execution_count": 30,
     "metadata": {},
     "output_type": "execute_result"
    }
   ],
   "source": [
    "# Sort it - Just insert your list where L is.\n",
    "# This also prints out the number of comparisons\n",
    "bubble_sort(L)"
   ]
  },
  {
   "cell_type": "code",
   "execution_count": 31,
   "id": "6caba3f0",
   "metadata": {},
   "outputs": [
    {
     "data": {
      "text/plain": [
       "[11, 12, 13, 14, 15, 16, 17, 18, 19, 20, 21]"
      ]
     },
     "execution_count": 31,
     "metadata": {},
     "output_type": "execute_result"
    }
   ],
   "source": [
    "# Then we can have a look at the list again. (sorted)\n",
    "L"
   ]
  },
  {
   "cell_type": "code",
   "execution_count": 32,
   "id": "96747958",
   "metadata": {},
   "outputs": [
    {
     "data": {
      "text/plain": [
       "10"
      ]
     },
     "execution_count": 32,
     "metadata": {},
     "output_type": "execute_result"
    }
   ],
   "source": [
    "# In terms of time complexity - Once the list is sorted, bubble sort is O(n).\n",
    "bubble_sort(L)"
   ]
  },
  {
   "cell_type": "code",
   "execution_count": 33,
   "id": "82542c5b",
   "metadata": {},
   "outputs": [
    {
     "data": {
      "text/plain": [
       "[21, 20, 19, 18, 17, 16, 15, 14, 13, 12, 11]"
      ]
     },
     "execution_count": 33,
     "metadata": {},
     "output_type": "execute_result"
    }
   ],
   "source": [
    "# The worst case scenario for bubble sort is a descending list\n",
    "L[::-1]"
   ]
  },
  {
   "cell_type": "code",
   "execution_count": 34,
   "id": "5a0380b3",
   "metadata": {},
   "outputs": [
    {
     "data": {
      "text/plain": [
       "55"
      ]
     },
     "execution_count": 34,
     "metadata": {},
     "output_type": "execute_result"
    }
   ],
   "source": [
    "# This is still O(n^2).\n",
    "bubble_sort(L[::-1])"
   ]
  },
  {
   "cell_type": "markdown",
   "id": "612c30fd",
   "metadata": {},
   "source": [
    "## Heapsort\n",
    "***\n",
    "Heap sort is an in-place algorithm. \n",
    "Its typical implementation is not stable, but can be made stable.\n",
    "***\n",
    "#### Time Complexity:\n",
    "Time complexity of heapify is O(Logn).\n",
    "Time complexity of createAndBuildHeap() is O(n),\n",
    "and the overall time complexity of Heap Sort is O(nLogn).\n",
    "***\n",
    "#### Advantages of heapsort :\n",
    "###### Efficiency –\n",
    "The time required to perform Heap sort increases logarithmically while other algorithms may grow exponentially slower as the number of items to sort increases. This sorting algorithm is very efficient.\n",
    "###### Memory Usage –\n",
    "Memory usage is minimal because apart from what is necessary to hold the initial list of items to be sorted, it needs no additional memory space to work.\n",
    "###### Simplicity –\n",
    "It is simpler to understand than other equally efficient sorting algorithms because it does not use advanced computer science concepts such as recursion.\n",
    "***\n",
    "#### Applications of HeapSort \n",
    "Heap sort algorithm has limited uses because Quicksort and Mergesort are better in practice. Nevertheless, the Heap data structure itself is enormously used. \n",
    "\n",
    "<img src=\"https://i2.wp.com/algorithms.tutorialhorizon.com/files/2018/09/Heap-Property.png?resize=768%2C337&ssl=1\" width=850 >\n",
    "\n",
    "ref: https://www.geeksforgeeks.org/heap-sort/\n",
    "\n",
    "image ref: https://algorithms.tutorialhorizon.com/heap-sort-java-implementation/"
   ]
  },
  {
   "cell_type": "code",
   "execution_count": 35,
   "id": "fd53cbbf",
   "metadata": {},
   "outputs": [],
   "source": [
    "# Here is Heap Sort at work\n",
    "\n",
    "def siftDown(L, parent, end):  \n",
    "    # L[:end + 1] should almost be a max heap. Sift down repairs it so that it is one\n",
    "    # keep track of the number of comparisons\n",
    "    no_comparisons = 0\n",
    "    \n",
    "    # while the parent is actually a parent (has atleast a left child.)\n",
    "    while 2*parent + 1 <= end:\n",
    "        # indices of left child of parent\n",
    "        lchild = 2 * parent + 1\n",
    "        rchild = 2 * parent + 2\n",
    "        \n",
    "        # we assume the parent is larger than the children\n",
    "        swap = parent\n",
    "        \n",
    "        # check if the parent is smaller than the left child\n",
    "        if L[swap] < L[lchild]:\n",
    "            \n",
    "            # if it is -> then 'swap' is set to index of  left child\n",
    "             swap = lchild\n",
    "                \n",
    "            # increment no_compariosns\n",
    "        no_comparisons = no_comparisons + 1\n",
    "        \n",
    "        # check if right child exists and is smaller than L[swap]\n",
    "        if rchild <= end and L[swap] < L[rchild]:\n",
    "            \n",
    "            # 'swap' is set to index of right child\n",
    "            swap = rchild\n",
    "            \n",
    "            # increment no_compariosns\n",
    "            no_comparisons = no_comparisons + 1\n",
    "            \n",
    "        # if the parent is bigger than the child, we have a max heap\n",
    "        if swap == parent:\n",
    "            break\n",
    "            \n",
    "        else:\n",
    "            # swap the parent with the bigger child - using the trick we saw earlier\n",
    "            L[parent], L[swap] = L[swap], L[parent]\n",
    "            \n",
    "            # set the parent to bigger chuld index\n",
    "            parent = swap    \n",
    "            \n",
    "    # return the number of comparisons\n",
    "    return no_comparisons"
   ]
  },
  {
   "cell_type": "code",
   "execution_count": 36,
   "id": "644b25cd",
   "metadata": {},
   "outputs": [],
   "source": [
    "def heapsort(L):\n",
    "# Sorts the list L in place using HeapSort.\n",
    "\n",
    "    # keep track of the number of comparisons\n",
    "    no_comparisons = 0\n",
    "    \n",
    "    # index of last element on the list\n",
    "    last_element = len(L) - 1\n",
    "    \n",
    "    # find the last parent\n",
    "    last_parent = (last_element - 1) // 2\n",
    "    \n",
    "    #loop backwards through all the parents\n",
    "    for parent in range(last_parent, -1, -1):\n",
    "        \n",
    "        # sift down.\n",
    "        no_comparisons = no_comparisons + siftDown(L, parent, last_element)     \n",
    "        \n",
    "    # segregate the list into two parts\n",
    "    #   1. L[end+1:] is a max heap\n",
    "    #   2. each element beyond is greater than everything before it.\n",
    "        \n",
    "    # while there are still elements in the heap\n",
    "    for end in range(last_element, 0, -1):\n",
    "        # swap the element at index 0 to index end\n",
    "        L[0], L[end] = L[end], L[0]  \n",
    "        # fix the heap - root is currently out of place\n",
    "        no_comparisons = no_comparisons + siftDown(L, 0, end - 1) \n",
    "\n",
    "    # return the number of comparisons\n",
    "    return no_comparisons"
   ]
  },
  {
   "cell_type": "code",
   "execution_count": 37,
   "id": "cc44fea4",
   "metadata": {},
   "outputs": [
    {
     "data": {
      "text/plain": [
       "37"
      ]
     },
     "execution_count": 37,
     "metadata": {},
     "output_type": "execute_result"
    }
   ],
   "source": [
    "# Now we have a heapsort and a bubble sort function - We'll be comparing the two later\n",
    "heapsort(L)"
   ]
  },
  {
   "cell_type": "code",
   "execution_count": 38,
   "id": "fd5bbe55",
   "metadata": {},
   "outputs": [
    {
     "data": {
      "text/plain": [
       "[11, 12, 13, 14, 15, 16, 17, 18, 19, 20, 21]"
      ]
     },
     "execution_count": 38,
     "metadata": {},
     "output_type": "execute_result"
    }
   ],
   "source": [
    "L"
   ]
  },
  {
   "attachments": {
    "image-2.png": {
     "image/png": "[encoded data removed]"
    }
   },
   "cell_type": "markdown",
   "id": "0efa674c",
   "metadata": {},
   "source": [
    "## Comparing Algorithms\n",
    "***\n",
    "                        There are many types of sorting algorithms all used for a variety of different things. \n",
    "***\n",
    "![image-2.png](attachment:image-2.png)\n",
    "***\n",
    "                             To simplify things a bit we'll only be comparing Bubble and Heap sort."
   ]
  },
  {
   "cell_type": "code",
   "execution_count": 39,
   "id": "c259060e",
   "metadata": {},
   "outputs": [
    {
     "data": {
      "text/plain": [
       "([2, 16, 25, 37, 38, 54, 64, 100], 19)"
      ]
     },
     "execution_count": 39,
     "metadata": {},
     "output_type": "execute_result"
    }
   ],
   "source": [
    "# Performs a heap sort and shows the number of comparisons.\n",
    "L = [25, 54, 38, 16, 37, 64, 2, 100]\n",
    "no_comparisons = heapsort(L)\n",
    "L, no_comparisons"
   ]
  },
  {
   "cell_type": "code",
   "execution_count": 40,
   "id": "c77473f1",
   "metadata": {},
   "outputs": [
    {
     "data": {
      "text/plain": [
       "([2, 16, 25, 37, 38, 54, 64, 100], 28)"
      ]
     },
     "execution_count": 40,
     "metadata": {},
     "output_type": "execute_result"
    }
   ],
   "source": [
    "# Performs a bubble sort and shows the number of comparisons.\n",
    "L = [25, 54, 38, 16, 37, 64, 2, 100]\n",
    "no_comparisons = bubble_sort(L)\n",
    "L, no_comparisons"
   ]
  },
  {
   "cell_type": "code",
   "execution_count": 41,
   "id": "c76f1f3d",
   "metadata": {},
   "outputs": [
    {
     "name": "stdout",
     "output_type": "stream",
     "text": [
      "\n",
      "___________|B|H\n",
      "|0, 1, 2, 3|3|6\n",
      "|0, 1, 3, 2|5|5\n",
      "|0, 2, 1, 3|5|5\n",
      "|0, 2, 3, 1|6|5\n",
      "|0, 3, 1, 2|5|5\n",
      "|0, 3, 2, 1|6|6\n",
      "|1, 0, 2, 3|5|6\n",
      "|1, 0, 3, 2|5|5\n",
      "|1, 2, 0, 3|6|5\n",
      "|1, 2, 3, 0|6|5\n",
      "|1, 3, 0, 2|6|5\n",
      "|1, 3, 2, 0|6|6\n",
      "|2, 0, 1, 3|5|5\n",
      "|2, 0, 3, 1|6|6\n",
      "|2, 1, 0, 3|6|5\n",
      "|2, 1, 3, 0|6|6\n",
      "|2, 3, 0, 1|6|5\n",
      "|2, 3, 1, 0|6|5\n",
      "|3, 0, 1, 2|5|4\n",
      "|3, 0, 2, 1|6|5\n",
      "|3, 1, 0, 2|6|4\n",
      "|3, 1, 2, 0|6|5\n",
      "|3, 2, 0, 1|6|4\n",
      "|3, 2, 1, 0|6|4\n"
     ]
    }
   ],
   "source": [
    "# A module full of combinatorial functions.\n",
    "import itertools\n",
    "\n",
    "# Length of example list.\n",
    "n = 4\n",
    "print(f'')\n",
    "print(f'___________|B|H')\n",
    "\n",
    "# Loops through all the permutations of the list of integers, from 0 to n.\n",
    "for perm in itertools.permutations(range(n)):\n",
    "    L = list(perm)\n",
    "    bubb_comp = bubble_sort(L)\n",
    "    L = list(perm)\n",
    "    heap_comp = heapsort(L)\n",
    "    print(f'|{str(perm)[1:-1]}|{bubb_comp}|{heap_comp}')"
   ]
  },
  {
   "cell_type": "code",
   "execution_count": 42,
   "id": "ed390ea1",
   "metadata": {},
   "outputs": [],
   "source": [
    "# Like Excel for Python\n",
    "import pandas as pd"
   ]
  },
  {
   "cell_type": "code",
   "execution_count": 43,
   "id": "096e2bf3",
   "metadata": {},
   "outputs": [],
   "source": [
    "# Length of example list.\n",
    "# NOTE: A list over the length of 9 can get very lengthy\n",
    "n = 10\n",
    "\n",
    "results = [[str(perm)[1:-1], bubble_sort(list(perm)), heapsort(list(perm))] for perm in itertools.permutations(range(n))]"
   ]
  },
  {
   "cell_type": "code",
   "execution_count": 44,
   "id": "b3c3c32e",
   "metadata": {},
   "outputs": [],
   "source": [
    "# Lets us look at the results in a nicer output\n",
    "df = pd.DataFrame(results, columns=['list', 'bubble', 'heap'])"
   ]
  },
  {
   "cell_type": "code",
   "execution_count": 45,
   "id": "9ed60b15",
   "metadata": {},
   "outputs": [
    {
     "data": {
      "text/html": [
       "<div>\n",
       "<style scoped>\n",
       "    .dataframe tbody tr th:only-of-type {\n",
       "        vertical-align: middle;\n",
       "    }\n",
       "\n",
       "    .dataframe tbody tr th {\n",
       "        vertical-align: top;\n",
       "    }\n",
       "\n",
       "    .dataframe thead th {\n",
       "        text-align: right;\n",
       "    }\n",
       "</style>\n",
       "<table border=\"1\" class=\"dataframe\">\n",
       "  <thead>\n",
       "    <tr style=\"text-align: right;\">\n",
       "      <th></th>\n",
       "      <th>list</th>\n",
       "      <th>bubble</th>\n",
       "      <th>heap</th>\n",
       "    </tr>\n",
       "  </thead>\n",
       "  <tbody>\n",
       "    <tr>\n",
       "      <th>0</th>\n",
       "      <td>0, 1, 2, 3, 4, 5, 6, 7, 8, 9</td>\n",
       "      <td>9</td>\n",
       "      <td>31</td>\n",
       "    </tr>\n",
       "    <tr>\n",
       "      <th>1</th>\n",
       "      <td>0, 1, 2, 3, 4, 5, 6, 7, 9, 8</td>\n",
       "      <td>17</td>\n",
       "      <td>31</td>\n",
       "    </tr>\n",
       "    <tr>\n",
       "      <th>2</th>\n",
       "      <td>0, 1, 2, 3, 4, 5, 6, 8, 7, 9</td>\n",
       "      <td>17</td>\n",
       "      <td>30</td>\n",
       "    </tr>\n",
       "    <tr>\n",
       "      <th>3</th>\n",
       "      <td>0, 1, 2, 3, 4, 5, 6, 8, 9, 7</td>\n",
       "      <td>24</td>\n",
       "      <td>30</td>\n",
       "    </tr>\n",
       "    <tr>\n",
       "      <th>4</th>\n",
       "      <td>0, 1, 2, 3, 4, 5, 6, 9, 7, 8</td>\n",
       "      <td>17</td>\n",
       "      <td>30</td>\n",
       "    </tr>\n",
       "  </tbody>\n",
       "</table>\n",
       "</div>"
      ],
      "text/plain": [
       "                           list  bubble  heap\n",
       "0  0, 1, 2, 3, 4, 5, 6, 7, 8, 9       9    31\n",
       "1  0, 1, 2, 3, 4, 5, 6, 7, 9, 8      17    31\n",
       "2  0, 1, 2, 3, 4, 5, 6, 8, 7, 9      17    30\n",
       "3  0, 1, 2, 3, 4, 5, 6, 8, 9, 7      24    30\n",
       "4  0, 1, 2, 3, 4, 5, 6, 9, 7, 8      17    30"
      ]
     },
     "execution_count": 45,
     "metadata": {},
     "output_type": "execute_result"
    }
   ],
   "source": [
    "df.head()"
   ]
  },
  {
   "cell_type": "code",
   "execution_count": 46,
   "id": "4a2f4718",
   "metadata": {},
   "outputs": [
    {
     "data": {
      "text/html": [
       "<div>\n",
       "<style scoped>\n",
       "    .dataframe tbody tr th:only-of-type {\n",
       "        vertical-align: middle;\n",
       "    }\n",
       "\n",
       "    .dataframe tbody tr th {\n",
       "        vertical-align: top;\n",
       "    }\n",
       "\n",
       "    .dataframe thead th {\n",
       "        text-align: right;\n",
       "    }\n",
       "</style>\n",
       "<table border=\"1\" class=\"dataframe\">\n",
       "  <thead>\n",
       "    <tr style=\"text-align: right;\">\n",
       "      <th></th>\n",
       "      <th>bubble</th>\n",
       "      <th>heap</th>\n",
       "    </tr>\n",
       "  </thead>\n",
       "  <tbody>\n",
       "    <tr>\n",
       "      <th>count</th>\n",
       "      <td>3.628800e+06</td>\n",
       "      <td>3.628800e+06</td>\n",
       "    </tr>\n",
       "    <tr>\n",
       "      <th>mean</th>\n",
       "      <td>4.199319e+01</td>\n",
       "      <td>2.736845e+01</td>\n",
       "    </tr>\n",
       "    <tr>\n",
       "      <th>std</th>\n",
       "      <td>3.640572e+00</td>\n",
       "      <td>1.812675e+00</td>\n",
       "    </tr>\n",
       "    <tr>\n",
       "      <th>min</th>\n",
       "      <td>9.000000e+00</td>\n",
       "      <td>2.100000e+01</td>\n",
       "    </tr>\n",
       "    <tr>\n",
       "      <th>25%</th>\n",
       "      <td>3.900000e+01</td>\n",
       "      <td>2.600000e+01</td>\n",
       "    </tr>\n",
       "    <tr>\n",
       "      <th>50%</th>\n",
       "      <td>4.400000e+01</td>\n",
       "      <td>2.700000e+01</td>\n",
       "    </tr>\n",
       "    <tr>\n",
       "      <th>75%</th>\n",
       "      <td>4.500000e+01</td>\n",
       "      <td>2.900000e+01</td>\n",
       "    </tr>\n",
       "    <tr>\n",
       "      <th>max</th>\n",
       "      <td>4.500000e+01</td>\n",
       "      <td>3.400000e+01</td>\n",
       "    </tr>\n",
       "  </tbody>\n",
       "</table>\n",
       "</div>"
      ],
      "text/plain": [
       "             bubble          heap\n",
       "count  3.628800e+06  3.628800e+06\n",
       "mean   4.199319e+01  2.736845e+01\n",
       "std    3.640572e+00  1.812675e+00\n",
       "min    9.000000e+00  2.100000e+01\n",
       "25%    3.900000e+01  2.600000e+01\n",
       "50%    4.400000e+01  2.700000e+01\n",
       "75%    4.500000e+01  2.900000e+01\n",
       "max    4.500000e+01  3.400000e+01"
      ]
     },
     "execution_count": 46,
     "metadata": {},
     "output_type": "execute_result"
    }
   ],
   "source": [
    "df.describe()"
   ]
  },
  {
   "cell_type": "code",
   "execution_count": 47,
   "id": "a700c417",
   "metadata": {},
   "outputs": [],
   "source": [
    "# Here we'll try again with a shorter list for a more readable output\n",
    "\n",
    "# Length of example list.\n",
    "n = 8\n",
    "\n",
    "results = [[str(perm)[1:-1], bubble_sort(list(perm)), heapsort(list(perm))] for perm in itertools.permutations(range(n))]"
   ]
  },
  {
   "cell_type": "code",
   "execution_count": 48,
   "id": "4691ff2a",
   "metadata": {},
   "outputs": [],
   "source": [
    "# Lets us look at the results in a nicer output\n",
    "df = pd.DataFrame(results, columns=['list', 'bubble', 'heap'])"
   ]
  },
  {
   "cell_type": "code",
   "execution_count": 49,
   "id": "f244a444",
   "metadata": {},
   "outputs": [
    {
     "data": {
      "text/html": [
       "<div>\n",
       "<style scoped>\n",
       "    .dataframe tbody tr th:only-of-type {\n",
       "        vertical-align: middle;\n",
       "    }\n",
       "\n",
       "    .dataframe tbody tr th {\n",
       "        vertical-align: top;\n",
       "    }\n",
       "\n",
       "    .dataframe thead th {\n",
       "        text-align: right;\n",
       "    }\n",
       "</style>\n",
       "<table border=\"1\" class=\"dataframe\">\n",
       "  <thead>\n",
       "    <tr style=\"text-align: right;\">\n",
       "      <th></th>\n",
       "      <th>list</th>\n",
       "      <th>bubble</th>\n",
       "      <th>heap</th>\n",
       "    </tr>\n",
       "  </thead>\n",
       "  <tbody>\n",
       "    <tr>\n",
       "      <th>0</th>\n",
       "      <td>0, 1, 2, 3, 4, 5, 6, 7</td>\n",
       "      <td>7</td>\n",
       "      <td>21</td>\n",
       "    </tr>\n",
       "    <tr>\n",
       "      <th>1</th>\n",
       "      <td>0, 1, 2, 3, 4, 5, 7, 6</td>\n",
       "      <td>13</td>\n",
       "      <td>21</td>\n",
       "    </tr>\n",
       "    <tr>\n",
       "      <th>2</th>\n",
       "      <td>0, 1, 2, 3, 4, 6, 5, 7</td>\n",
       "      <td>13</td>\n",
       "      <td>21</td>\n",
       "    </tr>\n",
       "    <tr>\n",
       "      <th>3</th>\n",
       "      <td>0, 1, 2, 3, 4, 6, 7, 5</td>\n",
       "      <td>18</td>\n",
       "      <td>22</td>\n",
       "    </tr>\n",
       "    <tr>\n",
       "      <th>4</th>\n",
       "      <td>0, 1, 2, 3, 4, 7, 5, 6</td>\n",
       "      <td>13</td>\n",
       "      <td>21</td>\n",
       "    </tr>\n",
       "  </tbody>\n",
       "</table>\n",
       "</div>"
      ],
      "text/plain": [
       "                     list  bubble  heap\n",
       "0  0, 1, 2, 3, 4, 5, 6, 7       7    21\n",
       "1  0, 1, 2, 3, 4, 5, 7, 6      13    21\n",
       "2  0, 1, 2, 3, 4, 6, 5, 7      13    21\n",
       "3  0, 1, 2, 3, 4, 6, 7, 5      18    22\n",
       "4  0, 1, 2, 3, 4, 7, 5, 6      13    21"
      ]
     },
     "execution_count": 49,
     "metadata": {},
     "output_type": "execute_result"
    }
   ],
   "source": [
    "df.head()"
   ]
  },
  {
   "cell_type": "code",
   "execution_count": 50,
   "id": "908e74e3",
   "metadata": {},
   "outputs": [
    {
     "data": {
      "text/html": [
       "<div>\n",
       "<style scoped>\n",
       "    .dataframe tbody tr th:only-of-type {\n",
       "        vertical-align: middle;\n",
       "    }\n",
       "\n",
       "    .dataframe tbody tr th {\n",
       "        vertical-align: top;\n",
       "    }\n",
       "\n",
       "    .dataframe thead th {\n",
       "        text-align: right;\n",
       "    }\n",
       "</style>\n",
       "<table border=\"1\" class=\"dataframe\">\n",
       "  <thead>\n",
       "    <tr style=\"text-align: right;\">\n",
       "      <th></th>\n",
       "      <th>bubble</th>\n",
       "      <th>heap</th>\n",
       "    </tr>\n",
       "  </thead>\n",
       "  <tbody>\n",
       "    <tr>\n",
       "      <th>count</th>\n",
       "      <td>40320.000000</td>\n",
       "      <td>40320.000000</td>\n",
       "    </tr>\n",
       "    <tr>\n",
       "      <th>mean</th>\n",
       "      <td>25.995288</td>\n",
       "      <td>18.719048</td>\n",
       "    </tr>\n",
       "    <tr>\n",
       "      <th>std</th>\n",
       "      <td>2.535959</td>\n",
       "      <td>1.485943</td>\n",
       "    </tr>\n",
       "    <tr>\n",
       "      <th>min</th>\n",
       "      <td>7.000000</td>\n",
       "      <td>14.000000</td>\n",
       "    </tr>\n",
       "    <tr>\n",
       "      <th>25%</th>\n",
       "      <td>25.000000</td>\n",
       "      <td>18.000000</td>\n",
       "    </tr>\n",
       "    <tr>\n",
       "      <th>50%</th>\n",
       "      <td>27.000000</td>\n",
       "      <td>19.000000</td>\n",
       "    </tr>\n",
       "    <tr>\n",
       "      <th>75%</th>\n",
       "      <td>28.000000</td>\n",
       "      <td>20.000000</td>\n",
       "    </tr>\n",
       "    <tr>\n",
       "      <th>max</th>\n",
       "      <td>28.000000</td>\n",
       "      <td>24.000000</td>\n",
       "    </tr>\n",
       "  </tbody>\n",
       "</table>\n",
       "</div>"
      ],
      "text/plain": [
       "             bubble          heap\n",
       "count  40320.000000  40320.000000\n",
       "mean      25.995288     18.719048\n",
       "std        2.535959      1.485943\n",
       "min        7.000000     14.000000\n",
       "25%       25.000000     18.000000\n",
       "50%       27.000000     19.000000\n",
       "75%       28.000000     20.000000\n",
       "max       28.000000     24.000000"
      ]
     },
     "execution_count": 50,
     "metadata": {},
     "output_type": "execute_result"
    }
   ],
   "source": [
    "df.describe()"
   ]
  },
  {
   "cell_type": "markdown",
   "id": "70579085",
   "metadata": {},
   "source": [
    "## Visualisation\n",
    "***\n",
    "This section should help \"put a face to the name\" so to speak. We'll be looking  at a list represented by a binary tree and how different sorting algorithms would work."
   ]
  },
  {
   "cell_type": "code",
   "execution_count": 51,
   "id": "ce17a56c",
   "metadata": {},
   "outputs": [
    {
     "data": {
      "text/plain": [
       "[4, 6, 2, 7, 3, 5, 9, 0, 8, 1]"
      ]
     },
     "execution_count": 51,
     "metadata": {},
     "output_type": "execute_result"
    }
   ],
   "source": [
    "# Some imports that are necessary for visualisation\n",
    "\n",
    "# Plots.\n",
    "import matplotlib.pyplot as plt\n",
    "\n",
    "# Change default plot size.\n",
    "plt.rcParams[\"figure.figsize\"] = (9, 4)\n",
    "\n",
    "# Graphs.\n",
    "import networkx as nx\n",
    "\n",
    "# Math functions.\n",
    "import math\n",
    "\n",
    "# Numerical and random functions.\n",
    "import numpy as np\n",
    "\n",
    "# Set up the random number generator - setting seed means we get same random sequence each time.\n",
    "rng = np.random.default_rng(seed=0)\n",
    "\n",
    "# Shuffle a list of integers.\n",
    "L = list(rng.permutation(10))\n",
    "L"
   ]
  },
  {
   "cell_type": "code",
   "execution_count": 52,
   "id": "130ec064",
   "metadata": {},
   "outputs": [],
   "source": [
    "def drawtree(L, highlight=None):\n",
    "  # Create a fully balanced binary tree.\n",
    "  T = nx.balanced_tree(2, math.floor(math.log(len(L), 2)))\n",
    "  # Remove nodes beyond the length of L.\n",
    "  T.remove_nodes_from(list(T.nodes)[len(L):])\n",
    "  # Relabel the nodes with elements of L.\n",
    "  T = nx.relabel_nodes(T, dict(zip(T.nodes, L)), copy=True)\n",
    "  # Get nice positions for the nodes in the picture.\n",
    "  pos = nx.drawing.nx_pydot.graphviz_layout(T, prog=\"dot\")\n",
    "  # Draw the graph.\n",
    "  nx.draw(T, pos, with_labels=True, node_color='lightgrey', node_size=1600, font_size=32)\n",
    "  # Highlight nodes if needed.\n",
    "  if highlight:\n",
    "    nx.draw_networkx(T.subgraph([i for i in T.nodes if i in highlight]), pos=pos, node_color='pink', node_size=1600, font_size=32)\n"
   ]
  },
  {
   "cell_type": "code",
   "execution_count": 53,
   "id": "095f0b5d",
   "metadata": {},
   "outputs": [
    {
     "data": {
      "image/png": "[encoded data removed]",
      "text/plain": [
       "<Figure size 648x288 with 1 Axes>"
      ]
     },
     "metadata": {},
     "output_type": "display_data"
    }
   ],
   "source": [
    "# Finally we draw our list.\n",
    "# NOTE: We have to install pyplot locally with cmd. - \"conda install pydot\"\n",
    "drawtree(L)"
   ]
  },
  {
   "cell_type": "code",
   "execution_count": 54,
   "id": "70f660a5",
   "metadata": {},
   "outputs": [
    {
     "data": {
      "text/plain": [
       "[4]"
      ]
     },
     "execution_count": 54,
     "metadata": {},
     "output_type": "execute_result"
    }
   ],
   "source": [
    "# Create a new list called s.\n",
    "S = []\n",
    "# Contains the first element of L.\n",
    "S = [L[0]] + S\n",
    "# Display what that element is.\n",
    "S"
   ]
  },
  {
   "cell_type": "code",
   "execution_count": 55,
   "id": "fcf1432c",
   "metadata": {},
   "outputs": [
    {
     "data": {
      "text/plain": [
       "[1, 6, 2, 7, 3, 5, 9, 0, 8, 4]"
      ]
     },
     "execution_count": 55,
     "metadata": {},
     "output_type": "execute_result"
    }
   ],
   "source": [
    "# Swap the first and last element of L\n",
    "L[0], L[-1] = L[-1], L[0]\n",
    "L"
   ]
  },
  {
   "cell_type": "code",
   "execution_count": 56,
   "id": "27bad9e5",
   "metadata": {},
   "outputs": [
    {
     "data": {
      "text/plain": [
       "[1, 6, 2, 7, 3, 5, 9, 0, 8]"
      ]
     },
     "execution_count": 56,
     "metadata": {},
     "output_type": "execute_result"
    }
   ],
   "source": [
    "# Get rid off the element we gave to S\n",
    "L = L[:-1]\n",
    "L"
   ]
  },
  {
   "cell_type": "code",
   "execution_count": 57,
   "id": "feaa0c74",
   "metadata": {},
   "outputs": [
    {
     "data": {
      "text/plain": [
       "([1, 6, 2, 7, 3, 5, 9, 0, 8], [4])"
      ]
     },
     "execution_count": 57,
     "metadata": {},
     "output_type": "execute_result"
    }
   ],
   "source": [
    "# Display the two together\n",
    "L, S"
   ]
  },
  {
   "cell_type": "code",
   "execution_count": 60,
   "id": "d237513c",
   "metadata": {},
   "outputs": [
    {
     "data": {
      "text/plain": [
       "[1, 7, 2, 6, 3, 5, 9, 0, 8]"
      ]
     },
     "execution_count": 60,
     "metadata": {},
     "output_type": "execute_result"
    },
    {
     "data": {
      "image/png": "[encoded data removed]",
      "text/plain": [
       "<Figure size 648x288 with 1 Axes>"
      ]
     },
     "metadata": {},
     "output_type": "display_data"
    }
   ],
   "source": [
    "# Swap the second and fourth element of L\n",
    "L[1], L[3] = L[3], L[1]\n",
    "# Then display it - drawtree(List, [Highlighted elements])\n",
    "drawtree(L, [0, 1])\n",
    "L"
   ]
  },
  {
   "cell_type": "code",
   "execution_count": null,
   "id": "6f4ebde2",
   "metadata": {},
   "outputs": [],
   "source": []
  }
 ],
 "metadata": {
  "kernelspec": {
   "display_name": "Python 3 (ipykernel)",
   "language": "python",
   "name": "python3"
  },
  "language_info": {
   "codemirror_mode": {
    "name": "ipython",
    "version": 3
   },
   "file_extension": ".py",
   "mimetype": "text/x-python",
   "name": "python",
   "nbconvert_exporter": "python",
   "pygments_lexer": "ipython3",
   "version": "3.9.7"
  }
 },
 "nbformat": 4,
 "nbformat_minor": 5
}
