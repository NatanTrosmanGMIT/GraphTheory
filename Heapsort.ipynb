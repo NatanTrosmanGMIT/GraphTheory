{
 "cells": [
  {
   "cell_type": "markdown",
   "id": "ec8371fa",
   "metadata": {},
   "source": [
    "\n",
    "# Heapsort\n",
    "***\n",
    "### What is Heapsort?\n",
    "\n",
    "Heap sort is a comparison-based sorting technique based on Binary Heap data structure. It's similar to 'selection' sort where we first find the minimum element and place the minimum element at the beginning. We repeat the same process for the remaining elements. \n",
    "ref: https://www.geeksforgeeks.org/heap-sort/\n",
    "\n"
   ]
  },
  {
   "cell_type": "code",
   "execution_count": 61,
   "id": "b2c7b3f4",
   "metadata": {},
   "outputs": [
    {
     "data": {
      "text/plain": [
       "30"
      ]
     },
     "execution_count": 61,
     "metadata": {},
     "output_type": "execute_result"
    }
   ],
   "source": [
    "# You can create a list in Python by using square brackets:.\n",
    "L = [10,20,30, None, False,\"This is the last element on the list\"]\n",
    "\n",
    "# Lists are zero indexed (They start at 0).\n",
    "L[2]"
   ]
  },
  {
   "cell_type": "code",
   "execution_count": 62,
   "id": "0409e4b0",
   "metadata": {},
   "outputs": [
    {
     "data": {
      "text/plain": [
       "'This is the last element on the list'"
      ]
     },
     "execution_count": 62,
     "metadata": {},
     "output_type": "execute_result"
    }
   ],
   "source": [
    "# You can also use Negative indexing.\n",
    "L[-1]"
   ]
  },
  {
   "cell_type": "code",
   "execution_count": 63,
   "id": "4016f928",
   "metadata": {},
   "outputs": [
    {
     "data": {
      "text/plain": [
       "10"
      ]
     },
     "execution_count": 63,
     "metadata": {},
     "output_type": "execute_result"
    }
   ],
   "source": [
    "# If you exceed the items in the list in your index, You will get an error.\n",
    "L[-6]"
   ]
  },
  {
   "cell_type": "code",
   "execution_count": 64,
   "id": "dc7bdea9",
   "metadata": {},
   "outputs": [
    {
     "data": {
      "text/plain": [
       "[0, 5, 10, 15, 20, 25, 30, 35, 40, 45, 50, 55, 60, 65, 70, 75, 80, 85, 90, 95]"
      ]
     },
     "execution_count": 64,
     "metadata": {},
     "output_type": "execute_result"
    }
   ],
   "source": [
    "# There is a built-in funtcion that create iterables.\n",
    "# range(start, stop[, step]).\n",
    "list(range(0, 100, 5))"
   ]
  },
  {
   "cell_type": "code",
   "execution_count": 65,
   "id": "326d8940",
   "metadata": {},
   "outputs": [
    {
     "data": {
      "text/plain": [
       "[0, 1, 2, 3, 4, 5, 6, 7, 8, 9, 10, 11, 12, 13, 14, 15, 16, 17, 18, 19, 20, 21]"
      ]
     },
     "execution_count": 65,
     "metadata": {},
     "output_type": "execute_result"
    }
   ],
   "source": [
    "# In-built functions for creating iterables.\n",
    "# range(length).\n",
    "L = list(range(22))\n",
    "L"
   ]
  },
  {
   "cell_type": "code",
   "execution_count": 66,
   "id": "c14a030f",
   "metadata": {},
   "outputs": [
    {
     "data": {
      "text/plain": [
       "[2, 4, 6, 8, 10, 12, 14, 16, 18, 20]"
      ]
     },
     "execution_count": 66,
     "metadata": {},
     "output_type": "execute_result"
    }
   ],
   "source": [
    "# List slicing.\n",
    "# L[start:stop:step].\n",
    "L[2:22:2]"
   ]
  },
  {
   "cell_type": "code",
   "execution_count": 67,
   "id": "97257c93",
   "metadata": {},
   "outputs": [
    {
     "data": {
      "text/plain": [
       "[2, 3, 4, 5, 6, 7, 8, 9, 10, 11, 12, 13, 14, 15, 16]"
      ]
     },
     "execution_count": 67,
     "metadata": {},
     "output_type": "execute_result"
    }
   ],
   "source": [
    "# For list slicing, you only have to specify one value.\n",
    "# So start at 2 and stop at 17.\n",
    "L[2:17]"
   ]
  },
  {
   "cell_type": "code",
   "execution_count": 68,
   "id": "30afcd72",
   "metadata": {},
   "outputs": [
    {
     "data": {
      "text/plain": [
       "[4, 5, 6, 7, 8, 9, 10, 11, 12, 13, 14, 15, 16, 17, 18, 19, 20, 21]"
      ]
     },
     "execution_count": 68,
     "metadata": {},
     "output_type": "execute_result"
    }
   ],
   "source": [
    "# Start at 4.\n",
    "L[4:]"
   ]
  },
  {
   "cell_type": "code",
   "execution_count": 69,
   "id": "2dfd2847",
   "metadata": {},
   "outputs": [
    {
     "data": {
      "text/plain": [
       "[0, 1, 2, 3, 4, 5, 6, 7, 8, 9, 10, 11, 12, 13, 14, 15]"
      ]
     },
     "execution_count": 69,
     "metadata": {},
     "output_type": "execute_result"
    }
   ],
   "source": [
    "# Stop at 16.\n",
    "L[:16]"
   ]
  },
  {
   "cell_type": "code",
   "execution_count": 70,
   "id": "9975b0e5",
   "metadata": {},
   "outputs": [
    {
     "data": {
      "text/plain": [
       "[0, 2, 4, 6, 8, 10, 12, 14, 16, 18, 20]"
      ]
     },
     "execution_count": 70,
     "metadata": {},
     "output_type": "execute_result"
    }
   ],
   "source": [
    "# Python make it very easy to manipulate the list as you like.\n",
    "# You can even just specify the step and it will default the other values.\n",
    "L[::2]"
   ]
  },
  {
   "cell_type": "code",
   "execution_count": 71,
   "id": "e1559132",
   "metadata": {},
   "outputs": [
    {
     "data": {
      "text/plain": [
       "[5, 6, 7, 8, 9, 10, 11, 12, 13, 14, 15, 16, 17, 18, 19, 20, 21, 0, 1, 2, 3, 4]"
      ]
     },
     "execution_count": 71,
     "metadata": {},
     "output_type": "execute_result"
    }
   ],
   "source": [
    "# Quick way to cycle the list to the left.\n",
    "# This will move the first 5 number to the end of the list\n",
    "# If the ':' is to the right of the i, it means the beginning.\n",
    "i = 5\n",
    "L[i:] + L[:i]"
   ]
  },
  {
   "cell_type": "markdown",
   "id": "b3c5debf",
   "metadata": {},
   "source": [
    "### Tuples and immutability.\n",
    "\n",
    "In object-oriented and functional programming, an immutable object (unchangeable object) is an object whose state cannot be modified after it is created. This is in contrast to a mutable object (changeable object), which can be modified after it is created. \n",
    "\n",
    "ref: https://en.wikipedia.org/wiki/Immutable_object#:~:text=In%20object%2Doriented%20and%20functional,modified%20after%20it%20is%20created.\n",
    "\n",
    "Just like lists, you can slice and select elements as you like. But tuples cannot be changed after they've been declared"
   ]
  },
  {
   "cell_type": "code",
   "execution_count": 72,
   "id": "5ace7106",
   "metadata": {},
   "outputs": [
    {
     "data": {
      "text/plain": [
       "6"
      ]
     },
     "execution_count": 72,
     "metadata": {},
     "output_type": "execute_result"
    }
   ],
   "source": [
    "T = (2,4,6,8,10)\n",
    "# Select elements.\n",
    "T[2]"
   ]
  },
  {
   "cell_type": "code",
   "execution_count": 73,
   "id": "e52049c3",
   "metadata": {},
   "outputs": [
    {
     "data": {
      "text/plain": [
       "(6, 8, 10)"
      ]
     },
     "execution_count": 73,
     "metadata": {},
     "output_type": "execute_result"
    }
   ],
   "source": [
    "# Slice.\n",
    "T[2:]"
   ]
  },
  {
   "cell_type": "code",
   "execution_count": 74,
   "id": "07c69c2b",
   "metadata": {},
   "outputs": [
    {
     "data": {
      "text/plain": [
       "(2, 6, 10)"
      ]
     },
     "execution_count": 74,
     "metadata": {},
     "output_type": "execute_result"
    }
   ],
   "source": [
    "# Step.\n",
    "T[::2]"
   ]
  },
  {
   "cell_type": "code",
   "execution_count": 75,
   "id": "29a109a9",
   "metadata": {},
   "outputs": [],
   "source": [
    "# So you wouldn't be able to declare something like this,\n",
    "# otherwise you would get an error.\n",
    "# T[2] = 100"
   ]
  },
  {
   "cell_type": "code",
   "execution_count": 76,
   "id": "ffe27721",
   "metadata": {},
   "outputs": [
    {
     "data": {
      "text/plain": [
       "(2, 4, 6, 8, 10)"
      ]
     },
     "execution_count": 76,
     "metadata": {},
     "output_type": "execute_result"
    }
   ],
   "source": [
    "# For tuples yuo heave to create them with commas instead of round brackets.\n",
    "T = 2, 4, 6, 8, 10\n",
    "T"
   ]
  }
 ],
 "metadata": {
  "kernelspec": {
   "display_name": "Python 3 (ipykernel)",
   "language": "python",
   "name": "python3"
  },
  "language_info": {
   "codemirror_mode": {
    "name": "ipython",
    "version": 3
   },
   "file_extension": ".py",
   "mimetype": "text/x-python",
   "name": "python",
   "nbconvert_exporter": "python",
   "pygments_lexer": "ipython3",
   "version": "3.9.7"
  }
 },
 "nbformat": 4,
 "nbformat_minor": 5
}
