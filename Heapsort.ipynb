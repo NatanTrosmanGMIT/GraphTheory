{
 "cells": [
  {
   "cell_type": "markdown",
   "id": "ec8371fa",
   "metadata": {},
   "source": [
    "\n",
    "# Heapsort\n",
    "***\n",
    "### What is Heapsort?\n",
    "\n",
    "Heap sort is a comparison-based sorting technique based on Binary Heap data structure. It's similar to 'selection' sort where we first find the minimum element and place the minimum element at the beginning. We repeat the same process for the remaining elements. \n",
    "ref: https://www.geeksforgeeks.org/heap-sort/\n",
    "\n",
    "### Lists\n",
    "\n",
    "To really understand heap sort, I'd first like to discuss some the the rules and features for lists in Python."
   ]
  },
  {
   "cell_type": "code",
   "execution_count": 117,
   "id": "b2c7b3f4",
   "metadata": {},
   "outputs": [
    {
     "data": {
      "text/plain": [
       "30"
      ]
     },
     "execution_count": 117,
     "metadata": {},
     "output_type": "execute_result"
    }
   ],
   "source": [
    "# You can create a list in Python by using square brackets.\n",
    "L = [10,20,30, None, False,\"This is the last element on the list\"]\n",
    "\n",
    "# Lists are zero indexed (They start at 0).\n",
    "L[2]"
   ]
  },
  {
   "cell_type": "code",
   "execution_count": 118,
   "id": "0409e4b0",
   "metadata": {},
   "outputs": [
    {
     "data": {
      "text/plain": [
       "'This is the last element on the list'"
      ]
     },
     "execution_count": 118,
     "metadata": {},
     "output_type": "execute_result"
    }
   ],
   "source": [
    "# You can also use Negative indexing.\n",
    "L[-1]"
   ]
  },
  {
   "cell_type": "code",
   "execution_count": 119,
   "id": "4016f928",
   "metadata": {},
   "outputs": [
    {
     "data": {
      "text/plain": [
       "10"
      ]
     },
     "execution_count": 119,
     "metadata": {},
     "output_type": "execute_result"
    }
   ],
   "source": [
    "# If you exceed the items in the list in your index, You will get an error.\n",
    "L[-6]"
   ]
  },
  {
   "cell_type": "code",
   "execution_count": 120,
   "id": "dc7bdea9",
   "metadata": {},
   "outputs": [
    {
     "data": {
      "text/plain": [
       "[0, 5, 10, 15, 20, 25, 30, 35, 40, 45, 50, 55, 60, 65, 70, 75, 80, 85, 90, 95]"
      ]
     },
     "execution_count": 120,
     "metadata": {},
     "output_type": "execute_result"
    }
   ],
   "source": [
    "# There is a built-in funtcion that create iterables.\n",
    "# range(start, stop[, step]).\n",
    "list(range(0, 100, 5))"
   ]
  },
  {
   "cell_type": "code",
   "execution_count": 121,
   "id": "326d8940",
   "metadata": {},
   "outputs": [
    {
     "data": {
      "text/plain": [
       "[0, 1, 2, 3, 4, 5, 6, 7, 8, 9, 10, 11, 12, 13, 14, 15, 16, 17, 18, 19, 20, 21]"
      ]
     },
     "execution_count": 121,
     "metadata": {},
     "output_type": "execute_result"
    }
   ],
   "source": [
    "# In-built functions for creating iterables.\n",
    "# range(length).\n",
    "L = list(range(22))\n",
    "L"
   ]
  },
  {
   "cell_type": "code",
   "execution_count": 122,
   "id": "c14a030f",
   "metadata": {},
   "outputs": [
    {
     "data": {
      "text/plain": [
       "[2, 4, 6, 8, 10, 12, 14, 16, 18, 20]"
      ]
     },
     "execution_count": 122,
     "metadata": {},
     "output_type": "execute_result"
    }
   ],
   "source": [
    "# List slicing.\n",
    "# L[start:stop:step].\n",
    "L[2:22:2]"
   ]
  },
  {
   "cell_type": "code",
   "execution_count": 123,
   "id": "97257c93",
   "metadata": {},
   "outputs": [
    {
     "data": {
      "text/plain": [
       "[2, 3, 4, 5, 6, 7, 8, 9, 10, 11, 12, 13, 14, 15, 16]"
      ]
     },
     "execution_count": 123,
     "metadata": {},
     "output_type": "execute_result"
    }
   ],
   "source": [
    "# For list slicing, you only have to specify one value.\n",
    "# So start at 2 and stop at 17.\n",
    "L[2:17]"
   ]
  },
  {
   "cell_type": "code",
   "execution_count": 124,
   "id": "30afcd72",
   "metadata": {},
   "outputs": [
    {
     "data": {
      "text/plain": [
       "[4, 5, 6, 7, 8, 9, 10, 11, 12, 13, 14, 15, 16, 17, 18, 19, 20, 21]"
      ]
     },
     "execution_count": 124,
     "metadata": {},
     "output_type": "execute_result"
    }
   ],
   "source": [
    "# Start at 4.\n",
    "L[4:]"
   ]
  },
  {
   "cell_type": "code",
   "execution_count": 125,
   "id": "2dfd2847",
   "metadata": {},
   "outputs": [
    {
     "data": {
      "text/plain": [
       "[0, 1, 2, 3, 4, 5, 6, 7, 8, 9, 10, 11, 12, 13, 14, 15]"
      ]
     },
     "execution_count": 125,
     "metadata": {},
     "output_type": "execute_result"
    }
   ],
   "source": [
    "# Stop at 16.\n",
    "L[:16]"
   ]
  },
  {
   "cell_type": "code",
   "execution_count": 126,
   "id": "9975b0e5",
   "metadata": {},
   "outputs": [
    {
     "data": {
      "text/plain": [
       "[0, 2, 4, 6, 8, 10, 12, 14, 16, 18, 20]"
      ]
     },
     "execution_count": 126,
     "metadata": {},
     "output_type": "execute_result"
    }
   ],
   "source": [
    "# Python make it very easy to manipulate the list as you like.\n",
    "# You can even just specify the step and it will default the other values.\n",
    "L[::2]"
   ]
  },
  {
   "cell_type": "code",
   "execution_count": 127,
   "id": "e1559132",
   "metadata": {},
   "outputs": [
    {
     "data": {
      "text/plain": [
       "[5, 6, 7, 8, 9, 10, 11, 12, 13, 14, 15, 16, 17, 18, 19, 20, 21, 0, 1, 2, 3, 4]"
      ]
     },
     "execution_count": 127,
     "metadata": {},
     "output_type": "execute_result"
    }
   ],
   "source": [
    "# Quick way to cycle the list to the left.\n",
    "# This will move the first 5 number to the end of the list\n",
    "# If the ':' is to the right of the i, it means the beginning.\n",
    "i = 5\n",
    "L[i:] + L[:i]"
   ]
  },
  {
   "cell_type": "markdown",
   "id": "b3c5debf",
   "metadata": {},
   "source": [
    "### Tuples and immutability.\n",
    "\n",
    "In object-oriented and functional programming, an immutable object (unchangeable object) is an object whose state cannot be modified after it is created. This is in contrast to a mutable object (changeable object), which can be modified after it is created. \n",
    "\n",
    "ref: https://en.wikipedia.org/wiki/Immutable_object#:~:text=In%20object%2Doriented%20and%20functional,modified%20after%20it%20is%20created.\n",
    "\n",
    "Just like lists, you can slice and select elements as you like. But tuples cannot be changed after they've been declared"
   ]
  },
  {
   "cell_type": "code",
   "execution_count": 128,
   "id": "5ace7106",
   "metadata": {},
   "outputs": [
    {
     "data": {
      "text/plain": [
       "6"
      ]
     },
     "execution_count": 128,
     "metadata": {},
     "output_type": "execute_result"
    }
   ],
   "source": [
    "T = (2,4,6,8,10)\n",
    "# Select elements.\n",
    "T[2]"
   ]
  },
  {
   "cell_type": "code",
   "execution_count": 129,
   "id": "e52049c3",
   "metadata": {},
   "outputs": [
    {
     "data": {
      "text/plain": [
       "(6, 8, 10)"
      ]
     },
     "execution_count": 129,
     "metadata": {},
     "output_type": "execute_result"
    }
   ],
   "source": [
    "# Slice.\n",
    "T[2:]"
   ]
  },
  {
   "cell_type": "code",
   "execution_count": 130,
   "id": "07c69c2b",
   "metadata": {},
   "outputs": [
    {
     "data": {
      "text/plain": [
       "(2, 6, 10)"
      ]
     },
     "execution_count": 130,
     "metadata": {},
     "output_type": "execute_result"
    }
   ],
   "source": [
    "# Step.\n",
    "T[::2]"
   ]
  },
  {
   "cell_type": "code",
   "execution_count": 131,
   "id": "29a109a9",
   "metadata": {},
   "outputs": [],
   "source": [
    "# So you wouldn't be able to declare something like this,\n",
    "# otherwise you would get an error.\n",
    "# T[2] = 100"
   ]
  },
  {
   "cell_type": "code",
   "execution_count": 132,
   "id": "ffe27721",
   "metadata": {},
   "outputs": [
    {
     "data": {
      "text/plain": [
       "(2, 4, 6, 8, 10)"
      ]
     },
     "execution_count": 132,
     "metadata": {},
     "output_type": "execute_result"
    }
   ],
   "source": [
    "# For tuples you heave to create them with comma's instead of round brackets.\n",
    "# Technically, the round broackets for the tuple above are redundant.\n",
    "T = 2, 4, 6, 8, 10\n",
    "T"
   ]
  },
  {
   "cell_type": "code",
   "execution_count": 133,
   "id": "29d8016e",
   "metadata": {},
   "outputs": [
    {
     "data": {
      "text/plain": [
       "((1, 2), 1, 2)"
      ]
     },
     "execution_count": 133,
     "metadata": {},
     "output_type": "execute_result"
    }
   ],
   "source": [
    "# You can also use tuples for assingment\n",
    "a, b = 1, 2\n",
    "(a, b), a, b\n",
    "# NOTE: You can print these values out individually, this was done for aesthitic purposes."
   ]
  },
  {
   "cell_type": "code",
   "execution_count": 134,
   "id": "7530851c",
   "metadata": {},
   "outputs": [
    {
     "data": {
      "text/plain": [
       "(2, 1)"
      ]
     },
     "execution_count": 134,
     "metadata": {},
     "output_type": "execute_result"
    }
   ],
   "source": [
    "# Very handy trick for swapping values\n",
    "a, b = b, a\n",
    "(a, b)"
   ]
  },
  {
   "cell_type": "markdown",
   "id": "9b380e50",
   "metadata": {},
   "source": [
    "#### List comprehension.\n",
    "\n",
    "In python there's a feature that lets you do a for loop, within a list.\n",
    "so if we a list called 'L' and we wanted to put the values in 'L' to the power of something.\n",
    "it would look like this: "
   ]
  },
  {
   "cell_type": "code",
   "execution_count": 135,
   "id": "a0ac8c05",
   "metadata": {},
   "outputs": [
    {
     "data": {
      "text/plain": [
       "[0, 1, 2, 3, 4, 5, 6, 7, 8, 9, 10, 11, 12, 13, 14]"
      ]
     },
     "execution_count": 135,
     "metadata": {},
     "output_type": "execute_result"
    }
   ],
   "source": [
    "# Create the list\n",
    "L = list(range(15))\n",
    "L"
   ]
  },
  {
   "cell_type": "code",
   "execution_count": 136,
   "id": "5beeda4a",
   "metadata": {},
   "outputs": [
    {
     "data": {
      "text/plain": [
       "[0, 1, 8, 27, 64, 125, 216, 343, 512, 729, 1000, 1331, 1728, 2197, 2744]"
      ]
     },
     "execution_count": 136,
     "metadata": {},
     "output_type": "execute_result"
    }
   ],
   "source": [
    "# A double asterix is the symbol for to the power of \n",
    "[i**3 for i in L]"
   ]
  },
  {
   "cell_type": "code",
   "execution_count": 137,
   "id": "5e501139",
   "metadata": {},
   "outputs": [
    {
     "data": {
      "text/plain": [
       "[0, 8, 64, 216, 512, 1000, 1728, 2744]"
      ]
     },
     "execution_count": 137,
     "metadata": {},
     "output_type": "execute_result"
    }
   ],
   "source": [
    "# You can even get a little bit more advanced with it\n",
    "[i**3 for i in L if i % 2 == 0]"
   ]
  },
  {
   "cell_type": "code",
   "execution_count": 138,
   "id": "86a319ca",
   "metadata": {},
   "outputs": [
    {
     "data": {
      "text/plain": [
       "[14, 13, 12, 11, 10, 9, 8, 7, 6, 5, 4, 3, 2, 1, 0]"
      ]
     },
     "execution_count": 138,
     "metadata": {},
     "output_type": "execute_result"
    }
   ],
   "source": [
    "# You can also reverse a list by adding [::-1]\n",
    "L[::-1]"
   ]
  },
  {
   "attachments": {
    "image.png": {
     "image/png": "[encoded data removed]"
    }
   },
   "cell_type": "markdown",
   "id": "d6abfb67",
   "metadata": {},
   "source": [
    "## Sorting algorithms\n",
    "***\n",
    "I'd like to have a look at some sorting algorithms, before diving into Heap sort.\n",
    "***\n",
    "### Bubble Sort\n",
    "***\n",
    "Bubble sort, sometimes referred to as sinking sort, is a simple sorting algorithm that repeatedly steps through the list, compares adjacent elements and swaps them if they are in the wrong order. The pass through the list is repeated until the list is sorted.\n",
    "\n",
    "ref: https://en.wikipedia.org/wiki/Bubble_sort#:~:text=Bubble%20sort%2C%20sometimes%20referred%20to,until%20the%20list%20is%20sorted.\n",
    "\n",
    "####  Worst and Average Case Time Complexity:\n",
    "O(n*n). The worst-case occurs when an array is reverse sorted.\n",
    "Best Case Time Complexity: O(n). The best-case occurs when an array is already sorted.\n",
    "\n",
    "Due to its simplicity, bubble sort is often used to introduce the concept of a sorting algorithm. \n",
    "In computer graphics, it is popular for its capability to detect a very small error (like swap of just two elements) in almost-sorted arrays and fix it with just linear complexity (2n). For example, it is used in a polygon filling algorithm, where bounding lines are sorted by their x coordinate at a specific scan line (a line parallel to x-axis) and with incrementing y their order changes (two elements are swapped) only at intersections of two lines.\n",
    "\n",
    "![image.png](attachment:image.png)"
   ]
  },
  {
   "cell_type": "code",
   "execution_count": 139,
   "id": "c5224297",
   "metadata": {},
   "outputs": [],
   "source": [
    "# Import a module from the standard library.\n",
    "import random"
   ]
  },
  {
   "cell_type": "code",
   "execution_count": 140,
   "id": "8c56f4d4",
   "metadata": {},
   "outputs": [
    {
     "data": {
      "text/plain": [
       "[11, 12, 13, 14, 15, 16, 17, 18, 19, 20, 21]"
      ]
     },
     "execution_count": 140,
     "metadata": {},
     "output_type": "execute_result"
    }
   ],
   "source": [
    "# Create a list of integers.\n",
    "L = list(range(11, 22))\n",
    "L"
   ]
  },
  {
   "cell_type": "code",
   "execution_count": 141,
   "id": "2b69f3b5",
   "metadata": {},
   "outputs": [
    {
     "data": {
      "text/plain": [
       "[19, 21, 14, 12, 15, 13, 16, 18, 11, 20, 17]"
      ]
     },
     "execution_count": 141,
     "metadata": {},
     "output_type": "execute_result"
    }
   ],
   "source": [
    "# Shuffle the list.\n",
    "random.shuffle(L)\n",
    "L"
   ]
  },
  {
   "cell_type": "code",
   "execution_count": 142,
   "id": "30aa4e34",
   "metadata": {},
   "outputs": [
    {
     "data": {
      "text/plain": [
       "[11, 12, 13, 14, 15, 16, 17, 18, 19, 20, 21]"
      ]
     },
     "execution_count": 142,
     "metadata": {},
     "output_type": "execute_result"
    }
   ],
   "source": [
    "# Bubble sort.\n",
    "\n",
    "# Keeps track of number of comparisons.\n",
    "no_comparisons = 0\n",
    "\n",
    "# Bubble every (biggest) element up.\n",
    "for j in range(len(L) - 1):\n",
    "    # Keep track of any swaps.\n",
    "    swapped = False\n",
    "    # Compare all elements that are side by side.\n",
    "    for i in range(len(L) - 1):\n",
    "        # Compare i with (i+1) - i being the element in the list.\n",
    "        if L[i] > L[i+1]:\n",
    "            # Swap the elements - with the same trick we saw earlier.\n",
    "            L[i], L[i+1] = L[i+1], L[i]\n",
    "            # Keep track of the swap.\n",
    "            swapped = True\n",
    "        # Add a comparison.\n",
    "        no_comparisons = no_comparisons + 1\n",
    "    # Quit if we didn't make any swaps.\n",
    "    if not swapped:\n",
    "        break\n",
    "# Print out the now ordered list     \n",
    "L"
   ]
  },
  {
   "cell_type": "code",
   "execution_count": 143,
   "id": "89db6c45",
   "metadata": {},
   "outputs": [
    {
     "data": {
      "text/plain": [
       "90"
      ]
     },
     "execution_count": 143,
     "metadata": {},
     "output_type": "execute_result"
    }
   ],
   "source": [
    " no_comparisons"
   ]
  },
  {
   "cell_type": "code",
   "execution_count": 144,
   "id": "b7f71229",
   "metadata": {},
   "outputs": [],
   "source": [
    "# Bubble sort as a function - this is the same code but in a function, so we can use it whenever we like.\n",
    "def bubble_sort(L):\n",
    "    # Keep track of number of comparisons.\n",
    "    no_comparisons = 0\n",
    "\n",
    "    # Bubble every (biggest) element up.\n",
    "    for j in range(len(L) - 1):\n",
    "        # Keep track of any swaps.\n",
    "        swapped = False\n",
    "        # Compare all elements that are side by side.\n",
    "        for i in range(len(L) - 1 - j):\n",
    "            # Compare the ith element with the (i+1)th.\n",
    "            if L[i] > L[i+1]:\n",
    "                # Swap the elements.\n",
    "                L[i], L[i+1] = L[i+1], L[i]\n",
    "                # Keep track of the swap.\n",
    "                swapped = True\n",
    "            # Add a comparison.\n",
    "            no_comparisons = no_comparisons + 1\n",
    "        # Quit if we didn't make any swaps.\n",
    "        if not swapped:\n",
    "            break\n",
    "    # Return the number of comparisons made.\n",
    "    return no_comparisons"
   ]
  },
  {
   "cell_type": "code",
   "execution_count": 145,
   "id": "b37b2f34",
   "metadata": {},
   "outputs": [
    {
     "data": {
      "text/plain": [
       "[20, 15, 12, 21, 19, 13, 17, 14, 18, 11, 16]"
      ]
     },
     "execution_count": 145,
     "metadata": {},
     "output_type": "execute_result"
    }
   ],
   "source": [
    "# To use the function, we just need to do these 4 things:\n",
    "\n",
    "# Create a list.\n",
    "L = list(range(11, 22))\n",
    "\n",
    "# Shuffle it.\n",
    "random.shuffle(L)\n",
    "\n",
    "# Look at it.\n",
    "L"
   ]
  },
  {
   "cell_type": "code",
   "execution_count": 146,
   "id": "ac5be9f4",
   "metadata": {},
   "outputs": [
    {
     "data": {
      "text/plain": [
       "55"
      ]
     },
     "execution_count": 146,
     "metadata": {},
     "output_type": "execute_result"
    }
   ],
   "source": [
    "# Sort it - Just insert your list where L is.\n",
    "# This also prints out the number of comparisons\n",
    "bubble_sort(L)"
   ]
  },
  {
   "cell_type": "code",
   "execution_count": 147,
   "id": "6caba3f0",
   "metadata": {},
   "outputs": [
    {
     "data": {
      "text/plain": [
       "[11, 12, 13, 14, 15, 16, 17, 18, 19, 20, 21]"
      ]
     },
     "execution_count": 147,
     "metadata": {},
     "output_type": "execute_result"
    }
   ],
   "source": [
    "# Then we can have a look at the list again. (sorted)\n",
    "L"
   ]
  },
  {
   "cell_type": "code",
   "execution_count": 148,
   "id": "96747958",
   "metadata": {},
   "outputs": [
    {
     "data": {
      "text/plain": [
       "10"
      ]
     },
     "execution_count": 148,
     "metadata": {},
     "output_type": "execute_result"
    }
   ],
   "source": [
    "# In terms of time complexity - Once the list is sorted, bubble sort is O(n).\n",
    "bubble_sort(L)"
   ]
  },
  {
   "cell_type": "code",
   "execution_count": 149,
   "id": "82542c5b",
   "metadata": {},
   "outputs": [
    {
     "data": {
      "text/plain": [
       "[21, 20, 19, 18, 17, 16, 15, 14, 13, 12, 11]"
      ]
     },
     "execution_count": 149,
     "metadata": {},
     "output_type": "execute_result"
    }
   ],
   "source": [
    "# The worst case scenario for bubble sort is a descending list\n",
    "L[::-1]"
   ]
  },
  {
   "cell_type": "code",
   "execution_count": 150,
   "id": "5a0380b3",
   "metadata": {},
   "outputs": [
    {
     "data": {
      "text/plain": [
       "55"
      ]
     },
     "execution_count": 150,
     "metadata": {},
     "output_type": "execute_result"
    }
   ],
   "source": [
    "# This is still O(n^2).\n",
    "bubble_sort(L[::-1])"
   ]
  },
  {
   "cell_type": "markdown",
   "id": "612c30fd",
   "metadata": {},
   "source": [
    "## Heapsort\n",
    "***\n",
    "Heap sort is an in-place algorithm. \n",
    "Its typical implementation is not stable, but can be made stable.\n",
    "***\n",
    "#### Time Complexity:\n",
    "Time complexity of heapify is O(Logn).\n",
    "Time complexity of createAndBuildHeap() is O(n),\n",
    "and the overall time complexity of Heap Sort is O(nLogn).\n",
    "***\n",
    "#### Advantages of heapsort :\n",
    "###### Efficiency –\n",
    "The time required to perform Heap sort increases logarithmically while other algorithms may grow exponentially slower as the number of items to sort increases. This sorting algorithm is very efficient.\n",
    "###### Memory Usage –\n",
    "Memory usage is minimal because apart from what is necessary to hold the initial list of items to be sorted, it needs no additional memory space to work.\n",
    "###### Simplicity –\n",
    "It is simpler to understand than other equally efficient sorting algorithms because it does not use advanced computer science concepts such as recursion.\n",
    "***\n",
    "#### Applications of HeapSort \n",
    "Heap sort algorithm has limited uses because Quicksort and Mergesort are better in practice. Nevertheless, the Heap data structure itself is enormously used. \n",
    "\n",
    "<img src=\"https://i2.wp.com/algorithms.tutorialhorizon.com/files/2018/09/Heap-Property.png?resize=768%2C337&ssl=1\" width=850 >\n",
    "\n",
    "ref: https://www.geeksforgeeks.org/heap-sort/\n",
    "\n",
    "image ref: https://algorithms.tutorialhorizon.com/heap-sort-java-implementation/"
   ]
  },
  {
   "cell_type": "code",
   "execution_count": 151,
   "id": "fd53cbbf",
   "metadata": {},
   "outputs": [],
   "source": [
    "# Here is Heap Sort at work\n",
    "\n",
    "def siftDown(L, parent, end):  \n",
    "    # L[:end + 1] should almost be a max heap. Sift down repairs it so that it is one\n",
    "    # keep track of the number of comparisons\n",
    "    no_comparisons = 0\n",
    "    \n",
    "    # while the parent is actually a parent (has atleast a left child.)\n",
    "    while 2*parent + 1 <= end:\n",
    "        # indices of left child of parent\n",
    "        lchild = 2 * parent + 1\n",
    "        rchild = 2 * parent + 2\n",
    "        \n",
    "        # we assume the parent is larger than the children\n",
    "        swap = parent\n",
    "        \n",
    "        # check if the parent is smaller than the left child\n",
    "        if L[swap] < L[lchild]:\n",
    "            \n",
    "            # if it is -> then 'swap' is set to index of  left child\n",
    "             swap = lchild\n",
    "                \n",
    "            # increment no_compariosns\n",
    "        no_comparisons = no_comparisons + 1\n",
    "        \n",
    "        # check if right child exists and is smaller than L[swap]\n",
    "        if rchild <= end and L[swap] < L[rchild]:\n",
    "            \n",
    "            # 'swap' is set to index of right child\n",
    "            swap = rchild\n",
    "            \n",
    "            # increment no_compariosns\n",
    "            no_comparisons = no_comparisons + 1\n",
    "            \n",
    "        # if the parent is bigger than the child, we have a max heap\n",
    "        if swap == parent:\n",
    "            break\n",
    "            \n",
    "        else:\n",
    "            # swap the parent with the bigger child - using the trick we saw earlier\n",
    "            L[parent], L[swap] = L[swap], L[parent]\n",
    "            \n",
    "            # set the parent to bigger chuld index\n",
    "            parent = swap    \n",
    "            \n",
    "    # return the number of comparisons\n",
    "    return no_comparisons"
   ]
  },
  {
   "cell_type": "code",
   "execution_count": 152,
   "id": "644b25cd",
   "metadata": {},
   "outputs": [],
   "source": [
    "def heapsort(L):\n",
    "# Sorts the list L in place using HeapSort.\n",
    "\n",
    "    # keep track of the number of comparisons\n",
    "    no_comparisons = 0\n",
    "    \n",
    "    # index of last element on the list\n",
    "    last_element = len(L) - 1\n",
    "    \n",
    "    # find the last parent\n",
    "    last_parent = (last_element - 1) // 2\n",
    "    \n",
    "    #loop backwards through all the parents\n",
    "    for parent in range(last_parent, -1, -1):\n",
    "        \n",
    "        # sift down.\n",
    "        no_comparisons = no_comparisons + siftDown(L, parent, last_element)     \n",
    "        \n",
    "    # segregate the list into two parts\n",
    "    #   1. L[end+1:] is a max heap\n",
    "    #   2. each element beyond is greater than everything before it.\n",
    "        \n",
    "    # while there are still elements in the heap\n",
    "    for end in range(last_element, 0, -1):\n",
    "        # swap the element at index 0 to index end\n",
    "        L[0], L[end] = L[end], L[0]  \n",
    "        # fix the heap - root is currently out of place\n",
    "        no_comparisons = no_comparisons + siftDown(L, 0, end - 1) \n",
    "\n",
    "    # return the number of comparisons\n",
    "    return no_comparisons"
   ]
  },
  {
   "cell_type": "code",
   "execution_count": 153,
   "id": "cc44fea4",
   "metadata": {},
   "outputs": [
    {
     "data": {
      "text/plain": [
       "37"
      ]
     },
     "execution_count": 153,
     "metadata": {},
     "output_type": "execute_result"
    }
   ],
   "source": [
    "# Now we have a heapsort and a bubble sort function - We'll be comparing the two later\n",
    "heapsort(L)"
   ]
  },
  {
   "cell_type": "code",
   "execution_count": 154,
   "id": "fd5bbe55",
   "metadata": {},
   "outputs": [
    {
     "data": {
      "text/plain": [
       "[11, 12, 13, 14, 15, 16, 17, 18, 19, 20, 21]"
      ]
     },
     "execution_count": 154,
     "metadata": {},
     "output_type": "execute_result"
    }
   ],
   "source": [
    "L"
   ]
  },
  {
   "attachments": {
    "image-2.png": {
     "image/png": "[encoded data removed]"
    }
   },
   "cell_type": "markdown",
   "id": "0efa674c",
   "metadata": {},
   "source": [
    "## Comparing Algorithms\n",
    "***\n",
    "                        There are many types of sorting algorithms all used for a variety of different things. \n",
    "***\n",
    "![image-2.png](attachment:image-2.png)\n",
    "***\n",
    "                             To simplify things a bit we'll only be comparing Bubble and Heap sort."
   ]
  },
  {
   "cell_type": "code",
   "execution_count": 155,
   "id": "c259060e",
   "metadata": {},
   "outputs": [
    {
     "data": {
      "text/plain": [
       "([2, 16, 25, 37, 38, 54, 64, 100], 19)"
      ]
     },
     "execution_count": 155,
     "metadata": {},
     "output_type": "execute_result"
    }
   ],
   "source": [
    "# Performs a heap sort and shows the number of comparisons.\n",
    "L = [25, 54, 38, 16, 37, 64, 2, 100]\n",
    "no_comparisons = heapsort(L)\n",
    "L, no_comparisons"
   ]
  },
  {
   "cell_type": "code",
   "execution_count": 156,
   "id": "c77473f1",
   "metadata": {},
   "outputs": [
    {
     "data": {
      "text/plain": [
       "([2, 16, 25, 37, 38, 54, 64, 100], 28)"
      ]
     },
     "execution_count": 156,
     "metadata": {},
     "output_type": "execute_result"
    }
   ],
   "source": [
    "# Performs a bubble sort and shows the number of comparisons.\n",
    "L = [25, 54, 38, 16, 37, 64, 2, 100]\n",
    "no_comparisons = bubble_sort(L)\n",
    "L, no_comparisons"
   ]
  },
  {
   "cell_type": "code",
   "execution_count": 157,
   "id": "c76f1f3d",
   "metadata": {},
   "outputs": [
    {
     "name": "stdout",
     "output_type": "stream",
     "text": [
      "\n",
      "_________________|B|H|\n",
      "|0, 1, 2, 3, 4, 5|5|13\n",
      "|0, 1, 2, 3, 5, 4|9|12\n",
      "|0, 1, 2, 4, 3, 5|9|13\n",
      "|0, 1, 2, 4, 5, 3|12|11\n",
      "|0, 1, 2, 5, 3, 4|9|12\n",
      "|0, 1, 2, 5, 4, 3|12|11\n",
      "|0, 1, 3, 2, 4, 5|9|12\n",
      "|0, 1, 3, 2, 5, 4|9|11\n",
      "|0, 1, 3, 4, 2, 5|12|12\n",
      "|0, 1, 3, 4, 5, 2|14|11\n",
      "|0, 1, 3, 5, 2, 4|12|11\n",
      "|0, 1, 3, 5, 4, 2|14|11\n",
      "|0, 1, 4, 2, 3, 5|9|12\n",
      "|0, 1, 4, 2, 5, 3|12|11\n",
      "|0, 1, 4, 3, 2, 5|12|11\n",
      "|0, 1, 4, 3, 5, 2|14|12\n",
      "|0, 1, 4, 5, 2, 3|12|11\n",
      "|0, 1, 4, 5, 3, 2|14|12\n",
      "|0, 1, 5, 2, 3, 4|9|12\n",
      "|0, 1, 5, 2, 4, 3|12|12\n",
      "|0, 1, 5, 3, 2, 4|12|11\n",
      "|0, 1, 5, 3, 4, 2|14|13\n",
      "|0, 1, 5, 4, 2, 3|12|12\n",
      "|0, 1, 5, 4, 3, 2|14|13\n",
      "|0, 2, 1, 3, 4, 5|9|12\n",
      "|0, 2, 1, 3, 5, 4|9|11\n",
      "|0, 2, 1, 4, 3, 5|9|12\n",
      "|0, 2, 1, 4, 5, 3|12|12\n",
      "|0, 2, 1, 5, 3, 4|9|11\n",
      "|0, 2, 1, 5, 4, 3|12|11\n",
      "|0, 2, 3, 1, 4, 5|12|13\n",
      "|0, 2, 3, 1, 5, 4|12|12\n",
      "|0, 2, 3, 4, 1, 5|14|11\n",
      "|0, 2, 3, 4, 5, 1|15|12\n",
      "|0, 2, 3, 5, 1, 4|14|10\n",
      "|0, 2, 3, 5, 4, 1|15|11\n",
      "|0, 2, 4, 1, 3, 5|12|12\n",
      "|0, 2, 4, 1, 5, 3|12|12\n",
      "|0, 2, 4, 3, 1, 5|14|11\n",
      "|0, 2, 4, 3, 5, 1|15|11\n",
      "|0, 2, 4, 5, 1, 3|14|10\n",
      "|0, 2, 4, 5, 3, 1|15|11\n",
      "|0, 2, 5, 1, 3, 4|12|12\n",
      "|0, 2, 5, 1, 4, 3|12|13\n",
      "|0, 2, 5, 3, 1, 4|14|11\n",
      "|0, 2, 5, 3, 4, 1|15|12\n",
      "|0, 2, 5, 4, 1, 3|14|11\n",
      "|0, 2, 5, 4, 3, 1|15|12\n",
      "|0, 3, 1, 2, 4, 5|9|13\n",
      "|0, 3, 1, 2, 5, 4|9|12\n",
      "|0, 3, 1, 4, 2, 5|12|11\n",
      "|0, 3, 1, 4, 5, 2|14|13\n",
      "|0, 3, 1, 5, 2, 4|12|10\n",
      "|0, 3, 1, 5, 4, 2|14|12\n",
      "|0, 3, 2, 1, 4, 5|12|14\n",
      "|0, 3, 2, 1, 5, 4|12|13\n",
      "|0, 3, 2, 4, 1, 5|14|12\n",
      "|0, 3, 2, 4, 5, 1|15|13\n",
      "|0, 3, 2, 5, 1, 4|14|11\n",
      "|0, 3, 2, 5, 4, 1|15|12\n",
      "|0, 3, 4, 1, 2, 5|12|11\n",
      "|0, 3, 4, 1, 5, 2|14|13\n",
      "|0, 3, 4, 2, 1, 5|14|11\n",
      "|0, 3, 4, 2, 5, 1|15|12\n",
      "|0, 3, 4, 5, 1, 2|14|11\n",
      "|0, 3, 4, 5, 2, 1|15|10\n",
      "|0, 3, 5, 1, 2, 4|12|11\n",
      "|0, 3, 5, 1, 4, 2|14|14\n",
      "|0, 3, 5, 2, 1, 4|14|11\n",
      "|0, 3, 5, 2, 4, 1|15|13\n",
      "|0, 3, 5, 4, 1, 2|14|12\n",
      "|0, 3, 5, 4, 2, 1|15|11\n",
      "|0, 4, 1, 2, 3, 5|9|12\n",
      "|0, 4, 1, 2, 5, 3|12|12\n",
      "|0, 4, 1, 3, 2, 5|12|11\n",
      "|0, 4, 1, 3, 5, 2|14|13\n",
      "|0, 4, 1, 5, 2, 3|12|11\n",
      "|0, 4, 1, 5, 3, 2|14|12\n",
      "|0, 4, 2, 1, 3, 5|12|13\n",
      "|0, 4, 2, 1, 5, 3|12|12\n",
      "|0, 4, 2, 3, 1, 5|14|12\n",
      "|0, 4, 2, 3, 5, 1|15|13\n",
      "|0, 4, 2, 5, 1, 3|14|10\n",
      "|0, 4, 2, 5, 3, 1|15|12\n",
      "|0, 4, 3, 1, 2, 5|12|12\n",
      "|0, 4, 3, 1, 5, 2|14|12\n",
      "|0, 4, 3, 2, 1, 5|14|11\n",
      "|0, 4, 3, 2, 5, 1|15|12\n",
      "|0, 4, 3, 5, 1, 2|14|10\n",
      "|0, 4, 3, 5, 2, 1|15|11\n",
      "|0, 4, 5, 1, 2, 3|12|12\n",
      "|0, 4, 5, 1, 3, 2|14|13\n",
      "|0, 4, 5, 2, 1, 3|14|11\n",
      "|0, 4, 5, 2, 3, 1|15|12\n",
      "|0, 4, 5, 3, 1, 2|14|12\n",
      "|0, 4, 5, 3, 2, 1|15|11\n",
      "|0, 5, 1, 2, 3, 4|9|11\n",
      "|0, 5, 1, 2, 4, 3|12|11\n",
      "|0, 5, 1, 3, 2, 4|12|10\n",
      "|0, 5, 1, 3, 4, 2|14|12\n",
      "|0, 5, 1, 4, 2, 3|12|11\n",
      "|0, 5, 1, 4, 3, 2|14|12\n",
      "|0, 5, 2, 1, 3, 4|12|12\n",
      "|0, 5, 2, 1, 4, 3|12|11\n",
      "|0, 5, 2, 3, 1, 4|14|11\n",
      "|0, 5, 2, 3, 4, 1|15|12\n",
      "|0, 5, 2, 4, 1, 3|14|10\n",
      "|0, 5, 2, 4, 3, 1|15|12\n",
      "|0, 5, 3, 1, 2, 4|12|11\n",
      "|0, 5, 3, 1, 4, 2|14|11\n",
      "|0, 5, 3, 2, 1, 4|14|10\n",
      "|0, 5, 3, 2, 4, 1|15|11\n",
      "|0, 5, 3, 4, 1, 2|14|10\n",
      "|0, 5, 3, 4, 2, 1|15|11\n",
      "|0, 5, 4, 1, 2, 3|12|11\n",
      "|0, 5, 4, 1, 3, 2|14|12\n",
      "|0, 5, 4, 2, 1, 3|14|10\n",
      "|0, 5, 4, 2, 3, 1|15|11\n",
      "|0, 5, 4, 3, 1, 2|14|11\n",
      "|0, 5, 4, 3, 2, 1|15|10\n",
      "|1, 0, 2, 3, 4, 5|9|13\n",
      "|1, 0, 2, 3, 5, 4|9|12\n",
      "|1, 0, 2, 4, 3, 5|9|13\n",
      "|1, 0, 2, 4, 5, 3|12|11\n",
      "|1, 0, 2, 5, 3, 4|9|12\n",
      "|1, 0, 2, 5, 4, 3|12|11\n",
      "|1, 0, 3, 2, 4, 5|9|12\n",
      "|1, 0, 3, 2, 5, 4|9|11\n",
      "|1, 0, 3, 4, 2, 5|12|12\n",
      "|1, 0, 3, 4, 5, 2|14|11\n",
      "|1, 0, 3, 5, 2, 4|12|11\n",
      "|1, 0, 3, 5, 4, 2|14|11\n",
      "|1, 0, 4, 2, 3, 5|9|12\n",
      "|1, 0, 4, 2, 5, 3|12|11\n",
      "|1, 0, 4, 3, 2, 5|12|11\n",
      "|1, 0, 4, 3, 5, 2|14|12\n",
      "|1, 0, 4, 5, 2, 3|12|11\n",
      "|1, 0, 4, 5, 3, 2|14|12\n",
      "|1, 0, 5, 2, 3, 4|9|12\n",
      "|1, 0, 5, 2, 4, 3|12|12\n",
      "|1, 0, 5, 3, 2, 4|12|11\n",
      "|1, 0, 5, 3, 4, 2|14|13\n",
      "|1, 0, 5, 4, 2, 3|12|12\n",
      "|1, 0, 5, 4, 3, 2|14|13\n",
      "|1, 2, 0, 3, 4, 5|12|12\n",
      "|1, 2, 0, 3, 5, 4|12|11\n",
      "|1, 2, 0, 4, 3, 5|12|12\n",
      "|1, 2, 0, 4, 5, 3|12|12\n",
      "|1, 2, 0, 5, 3, 4|12|11\n",
      "|1, 2, 0, 5, 4, 3|12|11\n",
      "|1, 2, 3, 0, 4, 5|14|13\n",
      "|1, 2, 3, 0, 5, 4|14|12\n",
      "|1, 2, 3, 4, 0, 5|15|11\n",
      "|1, 2, 3, 4, 5, 0|15|12\n",
      "|1, 2, 3, 5, 0, 4|15|10\n",
      "|1, 2, 3, 5, 4, 0|15|11\n",
      "|1, 2, 4, 0, 3, 5|14|12\n",
      "|1, 2, 4, 0, 5, 3|14|12\n",
      "|1, 2, 4, 3, 0, 5|15|11\n",
      "|1, 2, 4, 3, 5, 0|15|11\n",
      "|1, 2, 4, 5, 0, 3|15|10\n",
      "|1, 2, 4, 5, 3, 0|15|11\n",
      "|1, 2, 5, 0, 3, 4|14|12\n",
      "|1, 2, 5, 0, 4, 3|14|13\n",
      "|1, 2, 5, 3, 0, 4|15|11\n",
      "|1, 2, 5, 3, 4, 0|15|12\n",
      "|1, 2, 5, 4, 0, 3|15|11\n",
      "|1, 2, 5, 4, 3, 0|15|12\n",
      "|1, 3, 0, 2, 4, 5|12|13\n",
      "|1, 3, 0, 2, 5, 4|12|12\n",
      "|1, 3, 0, 4, 2, 5|12|11\n",
      "|1, 3, 0, 4, 5, 2|14|13\n",
      "|1, 3, 0, 5, 2, 4|12|10\n",
      "|1, 3, 0, 5, 4, 2|14|12\n",
      "|1, 3, 2, 0, 4, 5|14|14\n",
      "|1, 3, 2, 0, 5, 4|14|13\n",
      "|1, 3, 2, 4, 0, 5|15|12\n",
      "|1, 3, 2, 4, 5, 0|15|13\n",
      "|1, 3, 2, 5, 0, 4|15|11\n",
      "|1, 3, 2, 5, 4, 0|15|12\n",
      "|1, 3, 4, 0, 2, 5|14|11\n",
      "|1, 3, 4, 0, 5, 2|14|13\n",
      "|1, 3, 4, 2, 0, 5|15|11\n",
      "|1, 3, 4, 2, 5, 0|15|12\n",
      "|1, 3, 4, 5, 0, 2|15|11\n",
      "|1, 3, 4, 5, 2, 0|15|10\n",
      "|1, 3, 5, 0, 2, 4|14|11\n",
      "|1, 3, 5, 0, 4, 2|14|14\n",
      "|1, 3, 5, 2, 0, 4|15|11\n",
      "|1, 3, 5, 2, 4, 0|15|13\n",
      "|1, 3, 5, 4, 0, 2|15|12\n",
      "|1, 3, 5, 4, 2, 0|15|11\n",
      "|1, 4, 0, 2, 3, 5|12|12\n",
      "|1, 4, 0, 2, 5, 3|12|12\n",
      "|1, 4, 0, 3, 2, 5|12|11\n",
      "|1, 4, 0, 3, 5, 2|14|13\n",
      "|1, 4, 0, 5, 2, 3|12|11\n",
      "|1, 4, 0, 5, 3, 2|14|12\n",
      "|1, 4, 2, 0, 3, 5|14|13\n",
      "|1, 4, 2, 0, 5, 3|14|12\n",
      "|1, 4, 2, 3, 0, 5|15|12\n",
      "|1, 4, 2, 3, 5, 0|15|13\n",
      "|1, 4, 2, 5, 0, 3|15|10\n",
      "|1, 4, 2, 5, 3, 0|15|12\n",
      "|1, 4, 3, 0, 2, 5|14|12\n",
      "|1, 4, 3, 0, 5, 2|14|12\n",
      "|1, 4, 3, 2, 0, 5|15|11\n",
      "|1, 4, 3, 2, 5, 0|15|12\n",
      "|1, 4, 3, 5, 0, 2|15|10\n",
      "|1, 4, 3, 5, 2, 0|15|11\n",
      "|1, 4, 5, 0, 2, 3|14|12\n",
      "|1, 4, 5, 0, 3, 2|14|13\n",
      "|1, 4, 5, 2, 0, 3|15|11\n",
      "|1, 4, 5, 2, 3, 0|15|12\n",
      "|1, 4, 5, 3, 0, 2|15|12\n",
      "|1, 4, 5, 3, 2, 0|15|11\n",
      "|1, 5, 0, 2, 3, 4|12|11\n",
      "|1, 5, 0, 2, 4, 3|12|11\n",
      "|1, 5, 0, 3, 2, 4|12|10\n",
      "|1, 5, 0, 3, 4, 2|14|12\n",
      "|1, 5, 0, 4, 2, 3|12|11\n",
      "|1, 5, 0, 4, 3, 2|14|12\n",
      "|1, 5, 2, 0, 3, 4|14|12\n",
      "|1, 5, 2, 0, 4, 3|14|11\n",
      "|1, 5, 2, 3, 0, 4|15|11\n",
      "|1, 5, 2, 3, 4, 0|15|12\n",
      "|1, 5, 2, 4, 0, 3|15|10\n",
      "|1, 5, 2, 4, 3, 0|15|12\n",
      "|1, 5, 3, 0, 2, 4|14|11\n",
      "|1, 5, 3, 0, 4, 2|14|11\n",
      "|1, 5, 3, 2, 0, 4|15|10\n",
      "|1, 5, 3, 2, 4, 0|15|11\n",
      "|1, 5, 3, 4, 0, 2|15|10\n",
      "|1, 5, 3, 4, 2, 0|15|11\n",
      "|1, 5, 4, 0, 2, 3|14|11\n",
      "|1, 5, 4, 0, 3, 2|14|12\n",
      "|1, 5, 4, 2, 0, 3|15|10\n",
      "|1, 5, 4, 2, 3, 0|15|11\n",
      "|1, 5, 4, 3, 0, 2|15|11\n",
      "|1, 5, 4, 3, 2, 0|15|10\n",
      "|2, 0, 1, 3, 4, 5|9|13\n",
      "|2, 0, 1, 3, 5, 4|9|11\n",
      "|2, 0, 1, 4, 3, 5|9|13\n",
      "|2, 0, 1, 4, 5, 3|12|11\n",
      "|2, 0, 1, 5, 3, 4|9|11\n",
      "|2, 0, 1, 5, 4, 3|12|12\n",
      "|2, 0, 3, 1, 4, 5|12|12\n",
      "|2, 0, 3, 1, 5, 4|12|11\n",
      "|2, 0, 3, 4, 1, 5|14|11\n",
      "|2, 0, 3, 4, 5, 1|15|11\n",
      "|2, 0, 3, 5, 1, 4|14|10\n",
      "|2, 0, 3, 5, 4, 1|15|12\n",
      "|2, 0, 4, 1, 3, 5|12|13\n",
      "|2, 0, 4, 1, 5, 3|12|11\n",
      "|2, 0, 4, 3, 1, 5|14|12\n",
      "|2, 0, 4, 3, 5, 1|15|11\n",
      "|2, 0, 4, 5, 1, 3|14|10\n",
      "|2, 0, 4, 5, 3, 1|15|11\n",
      "|2, 0, 5, 1, 3, 4|12|13\n",
      "|2, 0, 5, 1, 4, 3|12|12\n",
      "|2, 0, 5, 3, 1, 4|14|12\n",
      "|2, 0, 5, 3, 4, 1|15|13\n",
      "|2, 0, 5, 4, 1, 3|14|11\n",
      "|2, 0, 5, 4, 3, 1|15|13\n",
      "|2, 1, 0, 3, 4, 5|12|13\n",
      "|2, 1, 0, 3, 5, 4|12|11\n",
      "|2, 1, 0, 4, 3, 5|12|13\n",
      "|2, 1, 0, 4, 5, 3|12|11\n",
      "|2, 1, 0, 5, 3, 4|12|11\n",
      "|2, 1, 0, 5, 4, 3|12|12\n",
      "|2, 1, 3, 0, 4, 5|14|12\n",
      "|2, 1, 3, 0, 5, 4|14|11\n",
      "|2, 1, 3, 4, 0, 5|15|11\n",
      "|2, 1, 3, 4, 5, 0|15|11\n",
      "|2, 1, 3, 5, 0, 4|15|10\n",
      "|2, 1, 3, 5, 4, 0|15|12\n",
      "|2, 1, 4, 0, 3, 5|14|13\n",
      "|2, 1, 4, 0, 5, 3|14|11\n",
      "|2, 1, 4, 3, 0, 5|15|12\n",
      "|2, 1, 4, 3, 5, 0|15|11\n",
      "|2, 1, 4, 5, 0, 3|15|10\n",
      "|2, 1, 4, 5, 3, 0|15|11\n",
      "|2, 1, 5, 0, 3, 4|14|13\n",
      "|2, 1, 5, 0, 4, 3|14|12\n",
      "|2, 1, 5, 3, 0, 4|15|12\n",
      "|2, 1, 5, 3, 4, 0|15|13\n",
      "|2, 1, 5, 4, 0, 3|15|11\n",
      "|2, 1, 5, 4, 3, 0|15|13\n",
      "|2, 3, 0, 1, 4, 5|12|14\n",
      "|2, 3, 0, 1, 5, 4|12|12\n",
      "|2, 3, 0, 4, 1, 5|14|12\n",
      "|2, 3, 0, 4, 5, 1|15|12\n",
      "|2, 3, 0, 5, 1, 4|14|10\n",
      "|2, 3, 0, 5, 4, 1|15|11\n",
      "|2, 3, 1, 0, 4, 5|14|14\n",
      "|2, 3, 1, 0, 5, 4|14|12\n",
      "|2, 3, 1, 4, 0, 5|15|12\n",
      "|2, 3, 1, 4, 5, 0|15|12\n",
      "|2, 3, 1, 5, 0, 4|15|10\n",
      "|2, 3, 1, 5, 4, 0|15|11\n",
      "|2, 3, 4, 0, 1, 5|14|12\n",
      "|2, 3, 4, 0, 5, 1|15|12\n",
      "|2, 3, 4, 1, 0, 5|15|12\n",
      "|2, 3, 4, 1, 5, 0|15|12\n",
      "|2, 3, 4, 5, 0, 1|15|10\n",
      "|2, 3, 4, 5, 1, 0|15|10\n",
      "|2, 3, 5, 0, 1, 4|14|12\n",
      "|2, 3, 5, 0, 4, 1|15|14\n",
      "|2, 3, 5, 1, 0, 4|15|12\n",
      "|2, 3, 5, 1, 4, 0|15|14\n",
      "|2, 3, 5, 4, 0, 1|15|12\n",
      "|2, 3, 5, 4, 1, 0|15|12\n",
      "|2, 4, 0, 1, 3, 5|12|13\n",
      "|2, 4, 0, 1, 5, 3|12|13\n",
      "|2, 4, 0, 3, 1, 5|14|12\n",
      "|2, 4, 0, 3, 5, 1|15|12\n",
      "|2, 4, 0, 5, 1, 3|14|10\n",
      "|2, 4, 0, 5, 3, 1|15|11\n",
      "|2, 4, 1, 0, 3, 5|14|13\n",
      "|2, 4, 1, 0, 5, 3|14|13\n",
      "|2, 4, 1, 3, 0, 5|15|12\n",
      "|2, 4, 1, 3, 5, 0|15|12\n",
      "|2, 4, 1, 5, 0, 3|15|10\n",
      "|2, 4, 1, 5, 3, 0|15|11\n",
      "|2, 4, 3, 0, 1, 5|14|11\n",
      "|2, 4, 3, 0, 5, 1|15|13\n",
      "|2, 4, 3, 1, 0, 5|15|11\n",
      "|2, 4, 3, 1, 5, 0|15|13\n",
      "|2, 4, 3, 5, 0, 1|15|10\n",
      "|2, 4, 3, 5, 1, 0|15|10\n",
      "|2, 4, 5, 0, 1, 3|14|11\n",
      "|2, 4, 5, 0, 3, 1|15|13\n",
      "|2, 4, 5, 1, 0, 3|15|11\n",
      "|2, 4, 5, 1, 3, 0|15|13\n",
      "|2, 4, 5, 3, 0, 1|15|12\n",
      "|2, 4, 5, 3, 1, 0|15|12\n",
      "|2, 5, 0, 1, 3, 4|12|11\n",
      "|2, 5, 0, 1, 4, 3|12|12\n",
      "|2, 5, 0, 3, 1, 4|14|10\n",
      "|2, 5, 0, 3, 4, 1|15|11\n",
      "|2, 5, 0, 4, 1, 3|14|10\n",
      "|2, 5, 0, 4, 3, 1|15|11\n",
      "|2, 5, 1, 0, 3, 4|14|11\n",
      "|2, 5, 1, 0, 4, 3|14|12\n",
      "|2, 5, 1, 3, 0, 4|15|10\n",
      "|2, 5, 1, 3, 4, 0|15|11\n",
      "|2, 5, 1, 4, 0, 3|15|10\n",
      "|2, 5, 1, 4, 3, 0|15|11\n",
      "|2, 5, 3, 0, 1, 4|14|10\n",
      "|2, 5, 3, 0, 4, 1|15|12\n",
      "|2, 5, 3, 1, 0, 4|15|10\n",
      "|2, 5, 3, 1, 4, 0|15|12\n",
      "|2, 5, 3, 4, 0, 1|15|10\n",
      "|2, 5, 3, 4, 1, 0|15|10\n",
      "|2, 5, 4, 0, 1, 3|14|10\n",
      "|2, 5, 4, 0, 3, 1|15|11\n",
      "|2, 5, 4, 1, 0, 3|15|10\n",
      "|2, 5, 4, 1, 3, 0|15|11\n",
      "|2, 5, 4, 3, 0, 1|15|10\n",
      "|2, 5, 4, 3, 1, 0|15|10\n",
      "|3, 0, 1, 2, 4, 5|9|12\n",
      "|3, 0, 1, 2, 5, 4|9|11\n",
      "|3, 0, 1, 4, 2, 5|12|12\n",
      "|3, 0, 1, 4, 5, 2|14|12\n",
      "|3, 0, 1, 5, 2, 4|12|10\n",
      "|3, 0, 1, 5, 4, 2|14|13\n",
      "|3, 0, 2, 1, 4, 5|12|12\n",
      "|3, 0, 2, 1, 5, 4|12|12\n",
      "|3, 0, 2, 4, 1, 5|14|11\n",
      "|3, 0, 2, 4, 5, 1|15|12\n",
      "|3, 0, 2, 5, 1, 4|14|11\n",
      "|3, 0, 2, 5, 4, 1|15|13\n",
      "|3, 0, 4, 1, 2, 5|12|12\n",
      "|3, 0, 4, 1, 5, 2|14|12\n",
      "|3, 0, 4, 2, 1, 5|14|11\n",
      "|3, 0, 4, 2, 5, 1|15|11\n",
      "|3, 0, 4, 5, 1, 2|14|11\n",
      "|3, 0, 4, 5, 2, 1|15|10\n",
      "|3, 0, 5, 1, 2, 4|12|12\n",
      "|3, 0, 5, 1, 4, 2|14|12\n",
      "|3, 0, 5, 2, 1, 4|14|11\n",
      "|3, 0, 5, 2, 4, 1|15|12\n",
      "|3, 0, 5, 4, 1, 2|14|11\n",
      "|3, 0, 5, 4, 2, 1|15|12\n",
      "|3, 1, 0, 2, 4, 5|12|12\n",
      "|3, 1, 0, 2, 5, 4|12|11\n",
      "|3, 1, 0, 4, 2, 5|12|12\n",
      "|3, 1, 0, 4, 5, 2|14|12\n",
      "|3, 1, 0, 5, 2, 4|12|10\n",
      "|3, 1, 0, 5, 4, 2|14|13\n",
      "|3, 1, 2, 0, 4, 5|14|12\n",
      "|3, 1, 2, 0, 5, 4|14|12\n",
      "|3, 1, 2, 4, 0, 5|15|11\n",
      "|3, 1, 2, 4, 5, 0|15|12\n",
      "|3, 1, 2, 5, 0, 4|15|11\n",
      "|3, 1, 2, 5, 4, 0|15|13\n",
      "|3, 1, 4, 0, 2, 5|14|12\n",
      "|3, 1, 4, 0, 5, 2|14|12\n",
      "|3, 1, 4, 2, 0, 5|15|11\n",
      "|3, 1, 4, 2, 5, 0|15|11\n",
      "|3, 1, 4, 5, 0, 2|15|11\n",
      "|3, 1, 4, 5, 2, 0|15|10\n",
      "|3, 1, 5, 0, 2, 4|14|12\n",
      "|3, 1, 5, 0, 4, 2|14|12\n",
      "|3, 1, 5, 2, 0, 4|15|11\n",
      "|3, 1, 5, 2, 4, 0|15|12\n",
      "|3, 1, 5, 4, 0, 2|15|11\n",
      "|3, 1, 5, 4, 2, 0|15|12\n",
      "|3, 2, 0, 1, 4, 5|12|13\n",
      "|3, 2, 0, 1, 5, 4|12|11\n",
      "|3, 2, 0, 4, 1, 5|14|11\n",
      "|3, 2, 0, 4, 5, 1|15|11\n",
      "|3, 2, 0, 5, 1, 4|14|10\n",
      "|3, 2, 0, 5, 4, 1|15|12\n",
      "|3, 2, 1, 0, 4, 5|14|13\n",
      "|3, 2, 1, 0, 5, 4|14|11\n",
      "|3, 2, 1, 4, 0, 5|15|11\n",
      "|3, 2, 1, 4, 5, 0|15|11\n",
      "|3, 2, 1, 5, 0, 4|15|10\n",
      "|3, 2, 1, 5, 4, 0|15|12\n",
      "|3, 2, 4, 0, 1, 5|14|11\n",
      "|3, 2, 4, 0, 5, 1|15|11\n",
      "|3, 2, 4, 1, 0, 5|15|11\n",
      "|3, 2, 4, 1, 5, 0|15|11\n",
      "|3, 2, 4, 5, 0, 1|15|10\n",
      "|3, 2, 4, 5, 1, 0|15|10\n",
      "|3, 2, 5, 0, 1, 4|14|11\n",
      "|3, 2, 5, 0, 4, 1|15|13\n",
      "|3, 2, 5, 1, 0, 4|15|11\n",
      "|3, 2, 5, 1, 4, 0|15|13\n",
      "|3, 2, 5, 4, 0, 1|15|11\n",
      "|3, 2, 5, 4, 1, 0|15|11\n",
      "|3, 4, 0, 1, 2, 5|12|12\n",
      "|3, 4, 0, 1, 5, 2|14|14\n",
      "|3, 4, 0, 2, 1, 5|14|11\n",
      "|3, 4, 0, 2, 5, 1|15|13\n",
      "|3, 4, 0, 5, 1, 2|14|11\n",
      "|3, 4, 0, 5, 2, 1|15|10\n",
      "|3, 4, 1, 0, 2, 5|14|12\n",
      "|3, 4, 1, 0, 5, 2|14|14\n",
      "|3, 4, 1, 2, 0, 5|15|11\n",
      "|3, 4, 1, 2, 5, 0|15|13\n",
      "|3, 4, 1, 5, 0, 2|15|11\n",
      "|3, 4, 1, 5, 2, 0|15|10\n",
      "|3, 4, 2, 0, 1, 5|14|11\n",
      "|3, 4, 2, 0, 5, 1|15|14\n",
      "|3, 4, 2, 1, 0, 5|15|11\n",
      "|3, 4, 2, 1, 5, 0|15|14\n",
      "|3, 4, 2, 5, 0, 1|15|11\n",
      "|3, 4, 2, 5, 1, 0|15|11\n",
      "|3, 4, 5, 0, 1, 2|14|11\n",
      "|3, 4, 5, 0, 2, 1|15|12\n",
      "|3, 4, 5, 1, 0, 2|15|11\n",
      "|3, 4, 5, 1, 2, 0|15|12\n",
      "|3, 4, 5, 2, 0, 1|15|11\n",
      "|3, 4, 5, 2, 1, 0|15|11\n",
      "|3, 5, 0, 1, 2, 4|12|10\n",
      "|3, 5, 0, 1, 4, 2|14|13\n",
      "|3, 5, 0, 2, 1, 4|14|10\n",
      "|3, 5, 0, 2, 4, 1|15|12\n",
      "|3, 5, 0, 4, 1, 2|14|11\n",
      "|3, 5, 0, 4, 2, 1|15|10\n",
      "|3, 5, 1, 0, 2, 4|14|10\n",
      "|3, 5, 1, 0, 4, 2|14|13\n",
      "|3, 5, 1, 2, 0, 4|15|10\n",
      "|3, 5, 1, 2, 4, 0|15|12\n",
      "|3, 5, 1, 4, 0, 2|15|11\n",
      "|3, 5, 1, 4, 2, 0|15|10\n",
      "|3, 5, 2, 0, 1, 4|14|11\n",
      "|3, 5, 2, 0, 4, 1|15|13\n",
      "|3, 5, 2, 1, 0, 4|15|11\n",
      "|3, 5, 2, 1, 4, 0|15|13\n",
      "|3, 5, 2, 4, 0, 1|15|11\n",
      "|3, 5, 2, 4, 1, 0|15|11\n",
      "|3, 5, 4, 0, 1, 2|14|11\n",
      "|3, 5, 4, 0, 2, 1|15|10\n",
      "|3, 5, 4, 1, 0, 2|15|11\n",
      "|3, 5, 4, 1, 2, 0|15|10\n",
      "|3, 5, 4, 2, 0, 1|15|10\n",
      "|3, 5, 4, 2, 1, 0|15|10\n",
      "|4, 0, 1, 2, 3, 5|9|12\n",
      "|4, 0, 1, 2, 5, 3|12|11\n",
      "|4, 0, 1, 3, 2, 5|12|11\n",
      "|4, 0, 1, 3, 5, 2|14|12\n",
      "|4, 0, 1, 5, 2, 3|12|11\n",
      "|4, 0, 1, 5, 3, 2|14|12\n",
      "|4, 0, 2, 1, 3, 5|12|13\n",
      "|4, 0, 2, 1, 5, 3|12|11\n",
      "|4, 0, 2, 3, 1, 5|14|12\n",
      "|4, 0, 2, 3, 5, 1|15|12\n",
      "|4, 0, 2, 5, 1, 3|14|10\n",
      "|4, 0, 2, 5, 3, 1|15|12\n",
      "|4, 0, 3, 1, 2, 5|12|12\n",
      "|4, 0, 3, 1, 5, 2|14|11\n",
      "|4, 0, 3, 2, 1, 5|14|11\n",
      "|4, 0, 3, 2, 5, 1|15|11\n",
      "|4, 0, 3, 5, 1, 2|14|10\n",
      "|4, 0, 3, 5, 2, 1|15|11\n",
      "|4, 0, 5, 1, 2, 3|12|12\n",
      "|4, 0, 5, 1, 3, 2|14|13\n",
      "|4, 0, 5, 2, 1, 3|14|11\n",
      "|4, 0, 5, 2, 3, 1|15|12\n",
      "|4, 0, 5, 3, 1, 2|14|12\n",
      "|4, 0, 5, 3, 2, 1|15|11\n",
      "|4, 1, 0, 2, 3, 5|12|12\n",
      "|4, 1, 0, 2, 5, 3|12|11\n",
      "|4, 1, 0, 3, 2, 5|12|11\n",
      "|4, 1, 0, 3, 5, 2|14|12\n",
      "|4, 1, 0, 5, 2, 3|12|11\n",
      "|4, 1, 0, 5, 3, 2|14|12\n",
      "|4, 1, 2, 0, 3, 5|14|13\n",
      "|4, 1, 2, 0, 5, 3|14|11\n",
      "|4, 1, 2, 3, 0, 5|15|12\n",
      "|4, 1, 2, 3, 5, 0|15|12\n",
      "|4, 1, 2, 5, 0, 3|15|10\n",
      "|4, 1, 2, 5, 3, 0|15|12\n",
      "|4, 1, 3, 0, 2, 5|14|12\n",
      "|4, 1, 3, 0, 5, 2|14|11\n",
      "|4, 1, 3, 2, 0, 5|15|11\n",
      "|4, 1, 3, 2, 5, 0|15|11\n",
      "|4, 1, 3, 5, 0, 2|15|10\n",
      "|4, 1, 3, 5, 2, 0|15|11\n",
      "|4, 1, 5, 0, 2, 3|14|12\n",
      "|4, 1, 5, 0, 3, 2|14|13\n",
      "|4, 1, 5, 2, 0, 3|15|11\n",
      "|4, 1, 5, 2, 3, 0|15|12\n",
      "|4, 1, 5, 3, 0, 2|15|12\n",
      "|4, 1, 5, 3, 2, 0|15|11\n",
      "|4, 2, 0, 1, 3, 5|12|12\n",
      "|4, 2, 0, 1, 5, 3|12|12\n",
      "|4, 2, 0, 3, 1, 5|14|11\n",
      "|4, 2, 0, 3, 5, 1|15|11\n",
      "|4, 2, 0, 5, 1, 3|14|10\n",
      "|4, 2, 0, 5, 3, 1|15|11\n",
      "|4, 2, 1, 0, 3, 5|14|12\n",
      "|4, 2, 1, 0, 5, 3|14|12\n",
      "|4, 2, 1, 3, 0, 5|15|11\n",
      "|4, 2, 1, 3, 5, 0|15|11\n",
      "|4, 2, 1, 5, 0, 3|15|10\n",
      "|4, 2, 1, 5, 3, 0|15|11\n",
      "|4, 2, 3, 0, 1, 5|14|11\n",
      "|4, 2, 3, 0, 5, 1|15|12\n",
      "|4, 2, 3, 1, 0, 5|15|11\n",
      "|4, 2, 3, 1, 5, 0|15|12\n",
      "|4, 2, 3, 5, 0, 1|15|10\n",
      "|4, 2, 3, 5, 1, 0|15|10\n",
      "|4, 2, 5, 0, 1, 3|14|11\n",
      "|4, 2, 5, 0, 3, 1|15|12\n",
      "|4, 2, 5, 1, 0, 3|15|11\n",
      "|4, 2, 5, 1, 3, 0|15|12\n",
      "|4, 2, 5, 3, 0, 1|15|11\n",
      "|4, 2, 5, 3, 1, 0|15|11\n",
      "|4, 3, 0, 1, 2, 5|12|11\n",
      "|4, 3, 0, 1, 5, 2|14|13\n",
      "|4, 3, 0, 2, 1, 5|14|11\n",
      "|4, 3, 0, 2, 5, 1|15|12\n",
      "|4, 3, 0, 5, 1, 2|14|11\n",
      "|4, 3, 0, 5, 2, 1|15|10\n",
      "|4, 3, 1, 0, 2, 5|14|11\n",
      "|4, 3, 1, 0, 5, 2|14|13\n",
      "|4, 3, 1, 2, 0, 5|15|11\n",
      "|4, 3, 1, 2, 5, 0|15|12\n",
      "|4, 3, 1, 5, 0, 2|15|11\n",
      "|4, 3, 1, 5, 2, 0|15|10\n",
      "|4, 3, 2, 0, 1, 5|14|12\n",
      "|4, 3, 2, 0, 5, 1|15|13\n",
      "|4, 3, 2, 1, 0, 5|15|12\n",
      "|4, 3, 2, 1, 5, 0|15|13\n",
      "|4, 3, 2, 5, 0, 1|15|11\n",
      "|4, 3, 2, 5, 1, 0|15|11\n",
      "|4, 3, 5, 0, 1, 2|14|12\n",
      "|4, 3, 5, 0, 2, 1|15|11\n",
      "|4, 3, 5, 1, 0, 2|15|12\n",
      "|4, 3, 5, 1, 2, 0|15|11\n",
      "|4, 3, 5, 2, 0, 1|15|11\n",
      "|4, 3, 5, 2, 1, 0|15|11\n",
      "|4, 5, 0, 1, 2, 3|12|11\n",
      "|4, 5, 0, 1, 3, 2|14|12\n",
      "|4, 5, 0, 2, 1, 3|14|10\n",
      "|4, 5, 0, 2, 3, 1|15|11\n",
      "|4, 5, 0, 3, 1, 2|14|11\n",
      "|4, 5, 0, 3, 2, 1|15|10\n",
      "|4, 5, 1, 0, 2, 3|14|11\n",
      "|4, 5, 1, 0, 3, 2|14|12\n",
      "|4, 5, 1, 2, 0, 3|15|10\n",
      "|4, 5, 1, 2, 3, 0|15|11\n",
      "|4, 5, 1, 3, 0, 2|15|11\n",
      "|4, 5, 1, 3, 2, 0|15|10\n",
      "|4, 5, 2, 0, 1, 3|14|10\n",
      "|4, 5, 2, 0, 3, 1|15|12\n",
      "|4, 5, 2, 1, 0, 3|15|10\n",
      "|4, 5, 2, 1, 3, 0|15|12\n",
      "|4, 5, 2, 3, 0, 1|15|11\n",
      "|4, 5, 2, 3, 1, 0|15|11\n",
      "|4, 5, 3, 0, 1, 2|14|10\n",
      "|4, 5, 3, 0, 2, 1|15|11\n",
      "|4, 5, 3, 1, 0, 2|15|10\n",
      "|4, 5, 3, 1, 2, 0|15|11\n",
      "|4, 5, 3, 2, 0, 1|15|10\n",
      "|4, 5, 3, 2, 1, 0|15|10\n",
      "|5, 0, 1, 2, 3, 4|9|10\n",
      "|5, 0, 1, 2, 4, 3|12|10\n",
      "|5, 0, 1, 3, 2, 4|12|9\n",
      "|5, 0, 1, 3, 4, 2|14|11\n",
      "|5, 0, 1, 4, 2, 3|12|10\n",
      "|5, 0, 1, 4, 3, 2|14|11\n",
      "|5, 0, 2, 1, 3, 4|12|11\n",
      "|5, 0, 2, 1, 4, 3|12|10\n",
      "|5, 0, 2, 3, 1, 4|14|10\n",
      "|5, 0, 2, 3, 4, 1|15|11\n",
      "|5, 0, 2, 4, 1, 3|14|9\n",
      "|5, 0, 2, 4, 3, 1|15|11\n",
      "|5, 0, 3, 1, 2, 4|12|10\n",
      "|5, 0, 3, 1, 4, 2|14|10\n",
      "|5, 0, 3, 2, 1, 4|14|9\n",
      "|5, 0, 3, 2, 4, 1|15|10\n",
      "|5, 0, 3, 4, 1, 2|14|9\n",
      "|5, 0, 3, 4, 2, 1|15|10\n",
      "|5, 0, 4, 1, 2, 3|12|10\n",
      "|5, 0, 4, 1, 3, 2|14|11\n",
      "|5, 0, 4, 2, 1, 3|14|9\n",
      "|5, 0, 4, 2, 3, 1|15|10\n",
      "|5, 0, 4, 3, 1, 2|14|10\n",
      "|5, 0, 4, 3, 2, 1|15|9\n",
      "|5, 1, 0, 2, 3, 4|12|10\n",
      "|5, 1, 0, 2, 4, 3|12|10\n",
      "|5, 1, 0, 3, 2, 4|12|9\n",
      "|5, 1, 0, 3, 4, 2|14|11\n",
      "|5, 1, 0, 4, 2, 3|12|10\n",
      "|5, 1, 0, 4, 3, 2|14|11\n",
      "|5, 1, 2, 0, 3, 4|14|11\n",
      "|5, 1, 2, 0, 4, 3|14|10\n",
      "|5, 1, 2, 3, 0, 4|15|10\n",
      "|5, 1, 2, 3, 4, 0|15|11\n",
      "|5, 1, 2, 4, 0, 3|15|9\n",
      "|5, 1, 2, 4, 3, 0|15|11\n",
      "|5, 1, 3, 0, 2, 4|14|10\n",
      "|5, 1, 3, 0, 4, 2|14|10\n",
      "|5, 1, 3, 2, 0, 4|15|9\n",
      "|5, 1, 3, 2, 4, 0|15|10\n",
      "|5, 1, 3, 4, 0, 2|15|9\n",
      "|5, 1, 3, 4, 2, 0|15|10\n",
      "|5, 1, 4, 0, 2, 3|14|10\n",
      "|5, 1, 4, 0, 3, 2|14|11\n",
      "|5, 1, 4, 2, 0, 3|15|9\n",
      "|5, 1, 4, 2, 3, 0|15|10\n",
      "|5, 1, 4, 3, 0, 2|15|10\n",
      "|5, 1, 4, 3, 2, 0|15|9\n",
      "|5, 2, 0, 1, 3, 4|12|10\n",
      "|5, 2, 0, 1, 4, 3|12|11\n",
      "|5, 2, 0, 3, 1, 4|14|9\n",
      "|5, 2, 0, 3, 4, 1|15|10\n",
      "|5, 2, 0, 4, 1, 3|14|9\n",
      "|5, 2, 0, 4, 3, 1|15|10\n",
      "|5, 2, 1, 0, 3, 4|14|10\n",
      "|5, 2, 1, 0, 4, 3|14|11\n",
      "|5, 2, 1, 3, 0, 4|15|9\n",
      "|5, 2, 1, 3, 4, 0|15|10\n",
      "|5, 2, 1, 4, 0, 3|15|9\n",
      "|5, 2, 1, 4, 3, 0|15|10\n",
      "|5, 2, 3, 0, 1, 4|14|9\n",
      "|5, 2, 3, 0, 4, 1|15|11\n",
      "|5, 2, 3, 1, 0, 4|15|9\n",
      "|5, 2, 3, 1, 4, 0|15|11\n",
      "|5, 2, 3, 4, 0, 1|15|9\n",
      "|5, 2, 3, 4, 1, 0|15|9\n",
      "|5, 2, 4, 0, 1, 3|14|9\n",
      "|5, 2, 4, 0, 3, 1|15|10\n",
      "|5, 2, 4, 1, 0, 3|15|9\n",
      "|5, 2, 4, 1, 3, 0|15|10\n",
      "|5, 2, 4, 3, 0, 1|15|9\n",
      "|5, 2, 4, 3, 1, 0|15|9\n",
      "|5, 3, 0, 1, 2, 4|12|9\n",
      "|5, 3, 0, 1, 4, 2|14|12\n",
      "|5, 3, 0, 2, 1, 4|14|9\n",
      "|5, 3, 0, 2, 4, 1|15|11\n",
      "|5, 3, 0, 4, 1, 2|14|10\n",
      "|5, 3, 0, 4, 2, 1|15|9\n",
      "|5, 3, 1, 0, 2, 4|14|9\n",
      "|5, 3, 1, 0, 4, 2|14|12\n",
      "|5, 3, 1, 2, 0, 4|15|9\n",
      "|5, 3, 1, 2, 4, 0|15|11\n",
      "|5, 3, 1, 4, 0, 2|15|10\n",
      "|5, 3, 1, 4, 2, 0|15|9\n",
      "|5, 3, 2, 0, 1, 4|14|10\n",
      "|5, 3, 2, 0, 4, 1|15|12\n",
      "|5, 3, 2, 1, 0, 4|15|10\n",
      "|5, 3, 2, 1, 4, 0|15|12\n",
      "|5, 3, 2, 4, 0, 1|15|10\n",
      "|5, 3, 2, 4, 1, 0|15|10\n",
      "|5, 3, 4, 0, 1, 2|14|10\n",
      "|5, 3, 4, 0, 2, 1|15|9\n",
      "|5, 3, 4, 1, 0, 2|15|10\n",
      "|5, 3, 4, 1, 2, 0|15|9\n",
      "|5, 3, 4, 2, 0, 1|15|9\n",
      "|5, 3, 4, 2, 1, 0|15|9\n",
      "|5, 4, 0, 1, 2, 3|12|10\n",
      "|5, 4, 0, 1, 3, 2|14|11\n",
      "|5, 4, 0, 2, 1, 3|14|9\n",
      "|5, 4, 0, 2, 3, 1|15|10\n",
      "|5, 4, 0, 3, 1, 2|14|10\n",
      "|5, 4, 0, 3, 2, 1|15|9\n",
      "|5, 4, 1, 0, 2, 3|14|10\n",
      "|5, 4, 1, 0, 3, 2|14|11\n",
      "|5, 4, 1, 2, 0, 3|15|9\n",
      "|5, 4, 1, 2, 3, 0|15|10\n",
      "|5, 4, 1, 3, 0, 2|15|10\n",
      "|5, 4, 1, 3, 2, 0|15|9\n",
      "|5, 4, 2, 0, 1, 3|14|9\n",
      "|5, 4, 2, 0, 3, 1|15|11\n",
      "|5, 4, 2, 1, 0, 3|15|9\n",
      "|5, 4, 2, 1, 3, 0|15|11\n",
      "|5, 4, 2, 3, 0, 1|15|10\n",
      "|5, 4, 2, 3, 1, 0|15|10\n",
      "|5, 4, 3, 0, 1, 2|14|9\n",
      "|5, 4, 3, 0, 2, 1|15|10\n",
      "|5, 4, 3, 1, 0, 2|15|9\n",
      "|5, 4, 3, 1, 2, 0|15|10\n",
      "|5, 4, 3, 2, 0, 1|15|9\n",
      "|5, 4, 3, 2, 1, 0|15|9\n"
     ]
    }
   ],
   "source": [
    "# A module full of combinatorial functions.\n",
    "import itertools\n",
    "\n",
    "# Length of example list.\n",
    "n = 6\n",
    "print(f'')\n",
    "print(f'_________________|B|H|')\n",
    "\n",
    "# Loops through all the permutations of the list of integers, from 0 to n.\n",
    "for perm in itertools.permutations(range(n)):\n",
    "    L = list(perm)\n",
    "    bubb_comp = bubble_sort(L)\n",
    "    L = list(perm)\n",
    "    heap_comp = heapsort(L)\n",
    "    print(f'|{str(perm)[1:-1]}|{bubb_comp}|{heap_comp}')"
   ]
  },
  {
   "cell_type": "code",
   "execution_count": 158,
   "id": "ed390ea1",
   "metadata": {},
   "outputs": [],
   "source": [
    "# Like Excel for Python\n",
    "import pandas as pd"
   ]
  },
  {
   "cell_type": "code",
   "execution_count": 164,
   "id": "096e2bf3",
   "metadata": {},
   "outputs": [],
   "source": [
    "# Length of example list.\n",
    "n = 10\n",
    "\n",
    "results = [[str(perm)[1:-1], bubble_sort(list(perm)), heapsort(list(perm))] for perm in itertools.permutations(range(n))]"
   ]
  },
  {
   "cell_type": "code",
   "execution_count": 166,
   "id": "b3c3c32e",
   "metadata": {},
   "outputs": [],
   "source": [
    "# Lets us look at the results in a nicer output\n",
    "df = pd.DataFrame(results, columns=['list', 'bubble', 'heap'])"
   ]
  },
  {
   "cell_type": "code",
   "execution_count": 168,
   "id": "9ed60b15",
   "metadata": {},
   "outputs": [
    {
     "data": {
      "text/html": [
       "<div>\n",
       "<style scoped>\n",
       "    .dataframe tbody tr th:only-of-type {\n",
       "        vertical-align: middle;\n",
       "    }\n",
       "\n",
       "    .dataframe tbody tr th {\n",
       "        vertical-align: top;\n",
       "    }\n",
       "\n",
       "    .dataframe thead th {\n",
       "        text-align: right;\n",
       "    }\n",
       "</style>\n",
       "<table border=\"1\" class=\"dataframe\">\n",
       "  <thead>\n",
       "    <tr style=\"text-align: right;\">\n",
       "      <th></th>\n",
       "      <th>list</th>\n",
       "      <th>bubble</th>\n",
       "      <th>heap</th>\n",
       "    </tr>\n",
       "  </thead>\n",
       "  <tbody>\n",
       "    <tr>\n",
       "      <th>0</th>\n",
       "      <td>0, 1, 2, 3, 4, 5, 6, 7, 8</td>\n",
       "      <td>8</td>\n",
       "      <td>26</td>\n",
       "    </tr>\n",
       "    <tr>\n",
       "      <th>1</th>\n",
       "      <td>0, 1, 2, 3, 4, 5, 6, 8, 7</td>\n",
       "      <td>15</td>\n",
       "      <td>25</td>\n",
       "    </tr>\n",
       "    <tr>\n",
       "      <th>2</th>\n",
       "      <td>0, 1, 2, 3, 4, 5, 7, 6, 8</td>\n",
       "      <td>15</td>\n",
       "      <td>26</td>\n",
       "    </tr>\n",
       "    <tr>\n",
       "      <th>3</th>\n",
       "      <td>0, 1, 2, 3, 4, 5, 7, 8, 6</td>\n",
       "      <td>21</td>\n",
       "      <td>25</td>\n",
       "    </tr>\n",
       "    <tr>\n",
       "      <th>4</th>\n",
       "      <td>0, 1, 2, 3, 4, 5, 8, 6, 7</td>\n",
       "      <td>15</td>\n",
       "      <td>25</td>\n",
       "    </tr>\n",
       "  </tbody>\n",
       "</table>\n",
       "</div>"
      ],
      "text/plain": [
       "                        list  bubble  heap\n",
       "0  0, 1, 2, 3, 4, 5, 6, 7, 8       8    26\n",
       "1  0, 1, 2, 3, 4, 5, 6, 8, 7      15    25\n",
       "2  0, 1, 2, 3, 4, 5, 7, 6, 8      15    26\n",
       "3  0, 1, 2, 3, 4, 5, 7, 8, 6      21    25\n",
       "4  0, 1, 2, 3, 4, 5, 8, 6, 7      15    25"
      ]
     },
     "execution_count": 168,
     "metadata": {},
     "output_type": "execute_result"
    }
   ],
   "source": [
    "df.head()"
   ]
  },
  {
   "cell_type": "code",
   "execution_count": 169,
   "id": "4a2f4718",
   "metadata": {},
   "outputs": [
    {
     "data": {
      "text/html": [
       "<div>\n",
       "<style scoped>\n",
       "    .dataframe tbody tr th:only-of-type {\n",
       "        vertical-align: middle;\n",
       "    }\n",
       "\n",
       "    .dataframe tbody tr th {\n",
       "        vertical-align: top;\n",
       "    }\n",
       "\n",
       "    .dataframe thead th {\n",
       "        text-align: right;\n",
       "    }\n",
       "</style>\n",
       "<table border=\"1\" class=\"dataframe\">\n",
       "  <thead>\n",
       "    <tr style=\"text-align: right;\">\n",
       "      <th></th>\n",
       "      <th>bubble</th>\n",
       "      <th>heap</th>\n",
       "    </tr>\n",
       "  </thead>\n",
       "  <tbody>\n",
       "    <tr>\n",
       "      <th>count</th>\n",
       "      <td>362880.000000</td>\n",
       "      <td>362880.000000</td>\n",
       "    </tr>\n",
       "    <tr>\n",
       "      <th>mean</th>\n",
       "      <td>33.506842</td>\n",
       "      <td>22.459573</td>\n",
       "    </tr>\n",
       "    <tr>\n",
       "      <th>std</th>\n",
       "      <td>3.077026</td>\n",
       "      <td>1.682434</td>\n",
       "    </tr>\n",
       "    <tr>\n",
       "      <th>min</th>\n",
       "      <td>8.000000</td>\n",
       "      <td>17.000000</td>\n",
       "    </tr>\n",
       "    <tr>\n",
       "      <th>25%</th>\n",
       "      <td>33.000000</td>\n",
       "      <td>21.000000</td>\n",
       "    </tr>\n",
       "    <tr>\n",
       "      <th>50%</th>\n",
       "      <td>35.000000</td>\n",
       "      <td>22.000000</td>\n",
       "    </tr>\n",
       "    <tr>\n",
       "      <th>75%</th>\n",
       "      <td>36.000000</td>\n",
       "      <td>24.000000</td>\n",
       "    </tr>\n",
       "    <tr>\n",
       "      <th>max</th>\n",
       "      <td>36.000000</td>\n",
       "      <td>29.000000</td>\n",
       "    </tr>\n",
       "  </tbody>\n",
       "</table>\n",
       "</div>"
      ],
      "text/plain": [
       "              bubble           heap\n",
       "count  362880.000000  362880.000000\n",
       "mean       33.506842      22.459573\n",
       "std         3.077026       1.682434\n",
       "min         8.000000      17.000000\n",
       "25%        33.000000      21.000000\n",
       "50%        35.000000      22.000000\n",
       "75%        36.000000      24.000000\n",
       "max        36.000000      29.000000"
      ]
     },
     "execution_count": 169,
     "metadata": {},
     "output_type": "execute_result"
    }
   ],
   "source": [
    "df.describe()"
   ]
  }
 ],
 "metadata": {
  "kernelspec": {
   "display_name": "Python 3 (ipykernel)",
   "language": "python",
   "name": "python3"
  },
  "language_info": {
   "codemirror_mode": {
    "name": "ipython",
    "version": 3
   },
   "file_extension": ".py",
   "mimetype": "text/x-python",
   "name": "python",
   "nbconvert_exporter": "python",
   "pygments_lexer": "ipython3",
   "version": "3.9.7"
  }
 },
 "nbformat": 4,
 "nbformat_minor": 5
}
