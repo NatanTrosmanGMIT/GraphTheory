{
 "cells": [
  {
   "cell_type": "markdown",
   "id": "ec8371fa",
   "metadata": {},
   "source": [
    "\n",
    "# Heapsort\n",
    "***\n",
    "### What is Heapsort?\n",
    "\n",
    "Heap sort is a comparison-based sorting technique based on Binary Heap data structure. It's similar to 'selection' sort where we first find the minimum element and place the minimum element at the beginning. We repeat the same process for the remaining elements. \n",
    "ref: https://www.geeksforgeeks.org/heap-sort/\n",
    "\n"
   ]
  },
  {
   "cell_type": "code",
   "execution_count": 13,
   "id": "b2c7b3f4",
   "metadata": {},
   "outputs": [
    {
     "data": {
      "text/plain": [
       "30"
      ]
     },
     "execution_count": 13,
     "metadata": {},
     "output_type": "execute_result"
    }
   ],
   "source": [
    "#You can create a list in Python by using square brackets:\n",
    "L = [10,20,30, None, False,\"This is the last element on the list\"]\n",
    "#Lists are zero indexed (They start at 0)\n",
    "L[2]"
   ]
  },
  {
   "cell_type": "code",
   "execution_count": 21,
   "id": "0409e4b0",
   "metadata": {},
   "outputs": [
    {
     "data": {
      "text/plain": [
       "'This is the last element on the list'"
      ]
     },
     "execution_count": 21,
     "metadata": {},
     "output_type": "execute_result"
    }
   ],
   "source": [
    "#You can also use Negative indexing\n",
    "L[-1]"
   ]
  },
  {
   "cell_type": "code",
   "execution_count": 36,
   "id": "4016f928",
   "metadata": {},
   "outputs": [
    {
     "data": {
      "text/plain": [
       "10"
      ]
     },
     "execution_count": 36,
     "metadata": {},
     "output_type": "execute_result"
    }
   ],
   "source": [
    "#If you exceed the items in the list in your index, You will get an error.\n",
    "L[-6]"
   ]
  },
  {
   "cell_type": "code",
   "execution_count": 43,
   "id": "dc7bdea9",
   "metadata": {},
   "outputs": [
    {
     "data": {
      "text/plain": [
       "[0, 5, 10, 15, 20, 25, 30, 35, 40, 45, 50, 55, 60, 65, 70, 75, 80, 85, 90, 95]"
      ]
     },
     "execution_count": 43,
     "metadata": {},
     "output_type": "execute_result"
    }
   ],
   "source": [
    "#There is a built-in funtcion that create iterables\n",
    "#range(start, stop[, step])\n",
    "list(range(0, 100, 5))"
   ]
  }
 ],
 "metadata": {
  "kernelspec": {
   "display_name": "Python 3 (ipykernel)",
   "language": "python",
   "name": "python3"
  },
  "language_info": {
   "codemirror_mode": {
    "name": "ipython",
    "version": 3
   },
   "file_extension": ".py",
   "mimetype": "text/x-python",
   "name": "python",
   "nbconvert_exporter": "python",
   "pygments_lexer": "ipython3",
   "version": "3.9.7"
  }
 },
 "nbformat": 4,
 "nbformat_minor": 5
}
