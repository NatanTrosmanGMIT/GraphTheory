{
 "cells": [
  {
   "cell_type": "markdown",
   "id": "ec8371fa",
   "metadata": {},
   "source": [
    "\n",
    "# Heapsort\n",
    "***\n",
    "### What is Heapsort?\n",
    "\n",
    "Heap sort is a comparison-based sorting technique based on Binary Heap data structure. It's similar to 'selection' sort where we first find the minimum element and place the minimum element at the beginning. We repeat the same process for the remaining elements. \n",
    "ref: https://www.geeksforgeeks.org/heap-sort/\n",
    "\n",
    "### Lists\n",
    "\n",
    "To really understand heap sort, I'd first like to discuss some the the rules and features for lists in Python."
   ]
  },
  {
   "cell_type": "code",
   "execution_count": 173,
   "id": "b2c7b3f4",
   "metadata": {},
   "outputs": [
    {
     "data": {
      "text/plain": [
       "30"
      ]
     },
     "execution_count": 173,
     "metadata": {},
     "output_type": "execute_result"
    }
   ],
   "source": [
    "# You can create a list in Python by using square brackets.\n",
    "L = [10,20,30, None, False,\"This is the last element on the list\"]\n",
    "\n",
    "# Lists are zero indexed (They start at 0).\n",
    "L[2]"
   ]
  },
  {
   "cell_type": "code",
   "execution_count": 174,
   "id": "0409e4b0",
   "metadata": {},
   "outputs": [
    {
     "data": {
      "text/plain": [
       "'This is the last element on the list'"
      ]
     },
     "execution_count": 174,
     "metadata": {},
     "output_type": "execute_result"
    }
   ],
   "source": [
    "# You can also use Negative indexing.\n",
    "L[-1]"
   ]
  },
  {
   "cell_type": "code",
   "execution_count": 175,
   "id": "4016f928",
   "metadata": {},
   "outputs": [
    {
     "data": {
      "text/plain": [
       "10"
      ]
     },
     "execution_count": 175,
     "metadata": {},
     "output_type": "execute_result"
    }
   ],
   "source": [
    "# If you exceed the items in the list in your index, You will get an error.\n",
    "L[-6]"
   ]
  },
  {
   "cell_type": "code",
   "execution_count": 176,
   "id": "dc7bdea9",
   "metadata": {},
   "outputs": [
    {
     "data": {
      "text/plain": [
       "[0, 5, 10, 15, 20, 25, 30, 35, 40, 45, 50, 55, 60, 65, 70, 75, 80, 85, 90, 95]"
      ]
     },
     "execution_count": 176,
     "metadata": {},
     "output_type": "execute_result"
    }
   ],
   "source": [
    "# There is a built-in funtcion that create iterables.\n",
    "# range(start, stop[, step]).\n",
    "list(range(0, 100, 5))"
   ]
  },
  {
   "cell_type": "code",
   "execution_count": 177,
   "id": "326d8940",
   "metadata": {},
   "outputs": [
    {
     "data": {
      "text/plain": [
       "[0, 1, 2, 3, 4, 5, 6, 7, 8, 9, 10, 11, 12, 13, 14, 15, 16, 17, 18, 19, 20, 21]"
      ]
     },
     "execution_count": 177,
     "metadata": {},
     "output_type": "execute_result"
    }
   ],
   "source": [
    "# In-built functions for creating iterables.\n",
    "# range(length).\n",
    "L = list(range(22))\n",
    "L"
   ]
  },
  {
   "cell_type": "code",
   "execution_count": 178,
   "id": "c14a030f",
   "metadata": {},
   "outputs": [
    {
     "data": {
      "text/plain": [
       "[2, 4, 6, 8, 10, 12, 14, 16, 18, 20]"
      ]
     },
     "execution_count": 178,
     "metadata": {},
     "output_type": "execute_result"
    }
   ],
   "source": [
    "# List slicing.\n",
    "# L[start:stop:step].\n",
    "L[2:22:2]"
   ]
  },
  {
   "cell_type": "code",
   "execution_count": 179,
   "id": "97257c93",
   "metadata": {},
   "outputs": [
    {
     "data": {
      "text/plain": [
       "[2, 3, 4, 5, 6, 7, 8, 9, 10, 11, 12, 13, 14, 15, 16]"
      ]
     },
     "execution_count": 179,
     "metadata": {},
     "output_type": "execute_result"
    }
   ],
   "source": [
    "# For list slicing, you only have to specify one value.\n",
    "# So start at 2 and stop at 17.\n",
    "L[2:17]"
   ]
  },
  {
   "cell_type": "code",
   "execution_count": 180,
   "id": "30afcd72",
   "metadata": {},
   "outputs": [
    {
     "data": {
      "text/plain": [
       "[4, 5, 6, 7, 8, 9, 10, 11, 12, 13, 14, 15, 16, 17, 18, 19, 20, 21]"
      ]
     },
     "execution_count": 180,
     "metadata": {},
     "output_type": "execute_result"
    }
   ],
   "source": [
    "# Start at 4.\n",
    "L[4:]"
   ]
  },
  {
   "cell_type": "code",
   "execution_count": 181,
   "id": "2dfd2847",
   "metadata": {},
   "outputs": [
    {
     "data": {
      "text/plain": [
       "[0, 1, 2, 3, 4, 5, 6, 7, 8, 9, 10, 11, 12, 13, 14, 15]"
      ]
     },
     "execution_count": 181,
     "metadata": {},
     "output_type": "execute_result"
    }
   ],
   "source": [
    "# Stop at 16.\n",
    "L[:16]"
   ]
  },
  {
   "cell_type": "code",
   "execution_count": 182,
   "id": "9975b0e5",
   "metadata": {},
   "outputs": [
    {
     "data": {
      "text/plain": [
       "[0, 2, 4, 6, 8, 10, 12, 14, 16, 18, 20]"
      ]
     },
     "execution_count": 182,
     "metadata": {},
     "output_type": "execute_result"
    }
   ],
   "source": [
    "# Python make it very easy to manipulate the list as you like.\n",
    "# You can even just specify the step and it will default the other values.\n",
    "L[::2]"
   ]
  },
  {
   "cell_type": "code",
   "execution_count": 183,
   "id": "e1559132",
   "metadata": {},
   "outputs": [
    {
     "data": {
      "text/plain": [
       "[5, 6, 7, 8, 9, 10, 11, 12, 13, 14, 15, 16, 17, 18, 19, 20, 21, 0, 1, 2, 3, 4]"
      ]
     },
     "execution_count": 183,
     "metadata": {},
     "output_type": "execute_result"
    }
   ],
   "source": [
    "# Quick way to cycle the list to the left.\n",
    "# This will move the first 5 number to the end of the list\n",
    "# If the ':' is to the right of the i, it means the beginning.\n",
    "i = 5\n",
    "L[i:] + L[:i]"
   ]
  },
  {
   "cell_type": "markdown",
   "id": "b3c5debf",
   "metadata": {},
   "source": [
    "### Tuples and immutability.\n",
    "\n",
    "In object-oriented and functional programming, an immutable object (unchangeable object) is an object whose state cannot be modified after it is created. This is in contrast to a mutable object (changeable object), which can be modified after it is created. \n",
    "\n",
    "ref: https://en.wikipedia.org/wiki/Immutable_object#:~:text=In%20object%2Doriented%20and%20functional,modified%20after%20it%20is%20created.\n",
    "\n",
    "Just like lists, you can slice and select elements as you like. But tuples cannot be changed after they've been declared"
   ]
  },
  {
   "cell_type": "code",
   "execution_count": 184,
   "id": "5ace7106",
   "metadata": {},
   "outputs": [
    {
     "data": {
      "text/plain": [
       "6"
      ]
     },
     "execution_count": 184,
     "metadata": {},
     "output_type": "execute_result"
    }
   ],
   "source": [
    "T = (2,4,6,8,10)\n",
    "# Select elements.\n",
    "T[2]"
   ]
  },
  {
   "cell_type": "code",
   "execution_count": 185,
   "id": "e52049c3",
   "metadata": {},
   "outputs": [
    {
     "data": {
      "text/plain": [
       "(6, 8, 10)"
      ]
     },
     "execution_count": 185,
     "metadata": {},
     "output_type": "execute_result"
    }
   ],
   "source": [
    "# Slice.\n",
    "T[2:]"
   ]
  },
  {
   "cell_type": "code",
   "execution_count": 186,
   "id": "07c69c2b",
   "metadata": {},
   "outputs": [
    {
     "data": {
      "text/plain": [
       "(2, 6, 10)"
      ]
     },
     "execution_count": 186,
     "metadata": {},
     "output_type": "execute_result"
    }
   ],
   "source": [
    "# Step.\n",
    "T[::2]"
   ]
  },
  {
   "cell_type": "code",
   "execution_count": 187,
   "id": "29a109a9",
   "metadata": {},
   "outputs": [],
   "source": [
    "# So you wouldn't be able to declare something like this,\n",
    "# otherwise you would get an error.\n",
    "# T[2] = 100"
   ]
  },
  {
   "cell_type": "code",
   "execution_count": 188,
   "id": "ffe27721",
   "metadata": {},
   "outputs": [
    {
     "data": {
      "text/plain": [
       "(2, 4, 6, 8, 10)"
      ]
     },
     "execution_count": 188,
     "metadata": {},
     "output_type": "execute_result"
    }
   ],
   "source": [
    "# For tuples you heave to create them with comma's instead of round brackets.\n",
    "# Technically, the round broackets for the tuple above are redundant.\n",
    "T = 2, 4, 6, 8, 10\n",
    "T"
   ]
  },
  {
   "cell_type": "code",
   "execution_count": 189,
   "id": "29d8016e",
   "metadata": {},
   "outputs": [
    {
     "data": {
      "text/plain": [
       "((1, 2), 1, 2)"
      ]
     },
     "execution_count": 189,
     "metadata": {},
     "output_type": "execute_result"
    }
   ],
   "source": [
    "# You can also use tuples for assingment\n",
    "a, b = 1, 2\n",
    "(a, b), a, b\n",
    "# NOTE: You can print these values out individually, this was done for aesthitic purposes."
   ]
  },
  {
   "cell_type": "code",
   "execution_count": 190,
   "id": "7530851c",
   "metadata": {},
   "outputs": [
    {
     "data": {
      "text/plain": [
       "(2, 1)"
      ]
     },
     "execution_count": 190,
     "metadata": {},
     "output_type": "execute_result"
    }
   ],
   "source": [
    "# Very handy trick for swapping values\n",
    "a, b = b, a\n",
    "(a, b)"
   ]
  },
  {
   "cell_type": "markdown",
   "id": "9b380e50",
   "metadata": {},
   "source": [
    "#### List comprehension.\n",
    "\n",
    "In python there's a feature that lets you do a for loop, within a list.\n",
    "so if we a list called 'L' and we wanted to put the values in 'L' to the power of something.\n",
    "it would look like this: "
   ]
  },
  {
   "cell_type": "code",
   "execution_count": 191,
   "id": "a0ac8c05",
   "metadata": {},
   "outputs": [
    {
     "data": {
      "text/plain": [
       "[0, 1, 2, 3, 4, 5, 6, 7, 8, 9, 10, 11, 12, 13, 14]"
      ]
     },
     "execution_count": 191,
     "metadata": {},
     "output_type": "execute_result"
    }
   ],
   "source": [
    "# Create the list\n",
    "L = list(range(15))\n",
    "L"
   ]
  },
  {
   "cell_type": "code",
   "execution_count": 192,
   "id": "5beeda4a",
   "metadata": {},
   "outputs": [
    {
     "data": {
      "text/plain": [
       "[0, 1, 8, 27, 64, 125, 216, 343, 512, 729, 1000, 1331, 1728, 2197, 2744]"
      ]
     },
     "execution_count": 192,
     "metadata": {},
     "output_type": "execute_result"
    }
   ],
   "source": [
    "# A double asterix is the symbol for to the power of \n",
    "[i**3 for i in L]"
   ]
  },
  {
   "cell_type": "code",
   "execution_count": 193,
   "id": "5e501139",
   "metadata": {},
   "outputs": [
    {
     "data": {
      "text/plain": [
       "[0, 8, 64, 216, 512, 1000, 1728, 2744]"
      ]
     },
     "execution_count": 193,
     "metadata": {},
     "output_type": "execute_result"
    }
   ],
   "source": [
    "# You can even get a little bit more advanced with it\n",
    "[i**3 for i in L if i % 2 == 0]"
   ]
  },
  {
   "cell_type": "code",
   "execution_count": 194,
   "id": "86a319ca",
   "metadata": {},
   "outputs": [
    {
     "data": {
      "text/plain": [
       "[14, 13, 12, 11, 10, 9, 8, 7, 6, 5, 4, 3, 2, 1, 0]"
      ]
     },
     "execution_count": 194,
     "metadata": {},
     "output_type": "execute_result"
    }
   ],
   "source": [
    "# You can also reverse a list by adding [::-1]\n",
    "L[::-1]"
   ]
  },
  {
   "cell_type": "markdown",
   "id": "d6abfb67",
   "metadata": {},
   "source": [
    "## Sorting algorithms\n",
    "***\n",
    "I'd like to have a look at some sorting algorithms, before diving into Heap sort.\n",
    "***\n",
    "### Bubble Sort\n",
    "***\n",
    "Bubble sort, sometimes referred to as sinking sort, is a simple sorting algorithm that repeatedly steps through the list, compares adjacent elements and swaps them if they are in the wrong order. The pass through the list is repeated until the list is sorted.\n",
    "\n",
    "ref: https://en.wikipedia.org/wiki/Bubble_sort#:~:text=Bubble%20sort%2C%20sometimes%20referred%20to,until%20the%20list%20is%20sorted."
   ]
  },
  {
   "cell_type": "code",
   "execution_count": 195,
   "id": "c5224297",
   "metadata": {},
   "outputs": [],
   "source": [
    "# Import a module from the standard library.\n",
    "import random"
   ]
  },
  {
   "cell_type": "code",
   "execution_count": 196,
   "id": "8c56f4d4",
   "metadata": {},
   "outputs": [
    {
     "data": {
      "text/plain": [
       "[11, 12, 13, 14, 15, 16, 17, 18, 19, 20, 21]"
      ]
     },
     "execution_count": 196,
     "metadata": {},
     "output_type": "execute_result"
    }
   ],
   "source": [
    "# Create a list of integers.\n",
    "L = list(range(11, 22))\n",
    "L"
   ]
  },
  {
   "cell_type": "code",
   "execution_count": 197,
   "id": "2b69f3b5",
   "metadata": {},
   "outputs": [
    {
     "data": {
      "text/plain": [
       "[19, 12, 16, 21, 13, 20, 14, 11, 17, 18, 15]"
      ]
     },
     "execution_count": 197,
     "metadata": {},
     "output_type": "execute_result"
    }
   ],
   "source": [
    "# Shuffle the list.\n",
    "random.shuffle(L)\n",
    "L"
   ]
  },
  {
   "cell_type": "code",
   "execution_count": 198,
   "id": "30aa4e34",
   "metadata": {},
   "outputs": [
    {
     "data": {
      "text/plain": [
       "[11, 12, 13, 14, 15, 16, 17, 18, 19, 20, 21]"
      ]
     },
     "execution_count": 198,
     "metadata": {},
     "output_type": "execute_result"
    }
   ],
   "source": [
    "# Bubble sort.\n",
    "\n",
    "# Keeps track of number of comparisons.\n",
    "no_comparisons = 0\n",
    "\n",
    "# Bubble every (biggest) element up.\n",
    "for j in range(len(L) - 1):\n",
    "    # Keep track of any swaps.\n",
    "    swapped = False\n",
    "    # Compare all elements that are side by side.\n",
    "    for i in range(len(L) - 1):\n",
    "        # Compare i with (i+1) - i being the element in the list.\n",
    "        if L[i] > L[i+1]:\n",
    "            # Swap the elements - with the same trick we saw earlier.\n",
    "            L[i], L[i+1] = L[i+1], L[i]\n",
    "            # Keep track of the swap.\n",
    "            swapped = True\n",
    "        # Add a comparison.\n",
    "        no_comparisons = no_comparisons + 1\n",
    "    # Quit if we didn't make any swaps.\n",
    "    if not swapped:\n",
    "        break\n",
    "# Print out the now ordered list     \n",
    "L"
   ]
  },
  {
   "cell_type": "code",
   "execution_count": 199,
   "id": "89db6c45",
   "metadata": {},
   "outputs": [
    {
     "data": {
      "text/plain": [
       "80"
      ]
     },
     "execution_count": 199,
     "metadata": {},
     "output_type": "execute_result"
    }
   ],
   "source": [
    " no_comparisons"
   ]
  },
  {
   "cell_type": "code",
   "execution_count": 200,
   "id": "b7f71229",
   "metadata": {},
   "outputs": [],
   "source": [
    "# Bubble sort as a function - this is the same code but in a function, so we can use it whenever we like.\n",
    "def bubble_sort(L):\n",
    "    # Keep track of number of comparisons.\n",
    "    no_comparisons = 0\n",
    "\n",
    "    # Bubble every (biggest) element up.\n",
    "    for j in range(len(L) - 1):\n",
    "        # Keep track of any swaps.\n",
    "        swapped = False\n",
    "        # Compare all elements that are side by side.\n",
    "        for i in range(len(L) - 1 - j):\n",
    "            # Compare the ith element with the (i+1)th.\n",
    "            if L[i] > L[i+1]:\n",
    "                # Swap the elements.\n",
    "                L[i], L[i+1] = L[i+1], L[i]\n",
    "                # Keep track of the swap.\n",
    "                swapped = True\n",
    "            # Add a comparison.\n",
    "            no_comparisons = no_comparisons + 1\n",
    "        # Quit if we didn't make any swaps.\n",
    "        if not swapped:\n",
    "            break\n",
    "    # Return the number of comparisons made.\n",
    "    return no_comparisons"
   ]
  },
  {
   "cell_type": "code",
   "execution_count": 201,
   "id": "b37b2f34",
   "metadata": {},
   "outputs": [
    {
     "data": {
      "text/plain": [
       "[11, 12, 16, 20, 19, 21, 18, 17, 13, 15, 14]"
      ]
     },
     "execution_count": 201,
     "metadata": {},
     "output_type": "execute_result"
    }
   ],
   "source": [
    "# To use the function, we just need to do these 4 things:\n",
    "\n",
    "# Create a list.\n",
    "L = list(range(11, 22))\n",
    "\n",
    "# Shuffle it.\n",
    "random.shuffle(L)\n",
    "\n",
    "# Look at it.\n",
    "L"
   ]
  },
  {
   "cell_type": "code",
   "execution_count": 202,
   "id": "ac5be9f4",
   "metadata": {},
   "outputs": [
    {
     "data": {
      "text/plain": [
       "52"
      ]
     },
     "execution_count": 202,
     "metadata": {},
     "output_type": "execute_result"
    }
   ],
   "source": [
    "# Sort it - Just insert your list where L is.\n",
    "# This also prints out the number of comparisons\n",
    "bubble_sort(L)"
   ]
  },
  {
   "cell_type": "code",
   "execution_count": 203,
   "id": "6caba3f0",
   "metadata": {},
   "outputs": [
    {
     "data": {
      "text/plain": [
       "[11, 12, 13, 14, 15, 16, 17, 18, 19, 20, 21]"
      ]
     },
     "execution_count": 203,
     "metadata": {},
     "output_type": "execute_result"
    }
   ],
   "source": [
    "# Then we can have a look at the list again. (sorted)\n",
    "L"
   ]
  },
  {
   "cell_type": "code",
   "execution_count": 204,
   "id": "96747958",
   "metadata": {},
   "outputs": [
    {
     "data": {
      "text/plain": [
       "10"
      ]
     },
     "execution_count": 204,
     "metadata": {},
     "output_type": "execute_result"
    }
   ],
   "source": [
    "# In terms of time complexity - Once the list is sorted, bubble sort is O(n).\n",
    "bubble_sort(L)"
   ]
  },
  {
   "cell_type": "code",
   "execution_count": 205,
   "id": "82542c5b",
   "metadata": {},
   "outputs": [
    {
     "data": {
      "text/plain": [
       "[21, 20, 19, 18, 17, 16, 15, 14, 13, 12, 11]"
      ]
     },
     "execution_count": 205,
     "metadata": {},
     "output_type": "execute_result"
    }
   ],
   "source": [
    "# The worst case scenario for bubble sort is a descending list\n",
    "L[::-1]"
   ]
  },
  {
   "cell_type": "code",
   "execution_count": 206,
   "id": "5a0380b3",
   "metadata": {},
   "outputs": [
    {
     "data": {
      "text/plain": [
       "55"
      ]
     },
     "execution_count": 206,
     "metadata": {},
     "output_type": "execute_result"
    }
   ],
   "source": [
    "# This is still O(n^2).\n",
    "bubble_sort(L[::-1])"
   ]
  },
  {
   "cell_type": "markdown",
   "id": "612c30fd",
   "metadata": {},
   "source": [
    "## Heapsort\n",
    "***\n",
    "Heap sort is an in-place algorithm. \n",
    "Its typical implementation is not stable, but can be made stable.\n",
    "***\n",
    "#### Time Complexity:\n",
    "Time complexity of heapify is O(Logn).\n",
    "Time complexity of createAndBuildHeap() is O(n),\n",
    "and the overall time complexity of Heap Sort is O(nLogn).\n",
    "***\n",
    "#### Advantages of heapsort :\n",
    "###### Efficiency –\n",
    "The time required to perform Heap sort increases logarithmically while other algorithms may grow exponentially slower as the number of items to sort increases. This sorting algorithm is very efficient.\n",
    "###### Memory Usage –\n",
    "Memory usage is minimal because apart from what is necessary to hold the initial list of items to be sorted, it needs no additional memory space to work.\n",
    "###### Simplicity –\n",
    "It is simpler to understand than other equally efficient sorting algorithms because it does not use advanced computer science concepts such as recursion.\n",
    "***\n",
    "#### Applications of HeapSort \n",
    "Heap sort algorithm has limited uses because Quicksort and Mergesort are better in practice. Nevertheless, the Heap data structure itself is enormously used. \n",
    "\n",
    "<img src=\"https://i2.wp.com/algorithms.tutorialhorizon.com/files/2018/09/Heap-Property.png?resize=768%2C337&ssl=1\" width=850 >\n",
    "\n",
    "ref: https://www.geeksforgeeks.org/heap-sort/\n",
    "\n",
    "image ref: https://algorithms.tutorialhorizon.com/heap-sort-java-implementation/"
   ]
  },
  {
   "cell_type": "code",
   "execution_count": 207,
   "id": "fd53cbbf",
   "metadata": {},
   "outputs": [],
   "source": [
    "# Here is Heap Sort at work\n",
    "\n",
    "def siftDown(L, parent, end):  \n",
    "    # L[:end + 1] should almost be a max heap. Sift down repairs it so that it is one\n",
    "    # keep track of the number of comparisons\n",
    "    no_comparisons = 0\n",
    "    \n",
    "    # while the parent is actually a parent (has atleast a left child.)\n",
    "    while 2*parent + 1 <= end:\n",
    "        # indices of left child of parent\n",
    "        lchild = 2 * parent + 1\n",
    "        rchild = 2 * parent + 2\n",
    "        \n",
    "        # we assume the parent is larger than the children\n",
    "        swap = parent\n",
    "        \n",
    "        # check if the parent is smaller than the left child\n",
    "        if L[swap] < L[lchild]:\n",
    "            \n",
    "            # if it is -> then 'swap' is set to index of  left child\n",
    "             swap = lchild\n",
    "                \n",
    "            # increment no_compariosns\n",
    "        no_comparisons = no_comparisons + 1\n",
    "        \n",
    "        # check if right child exists and is smaller than L[swap]\n",
    "        if rchild <= end and L[swap] < L[rchild]:\n",
    "            \n",
    "            # 'swap' is set to index of right child\n",
    "            swap = rchild\n",
    "            \n",
    "            # increment no_compariosns\n",
    "            no_comparisons = no_comparisons + 1\n",
    "            \n",
    "        # if the parent is bigger than the child, we have a max heap\n",
    "        if swap == parent:\n",
    "            break\n",
    "            \n",
    "        else:\n",
    "            # swap the parent with the bigger child - using the trick we saw earlier\n",
    "            L[parent], L[swap] = L[swap], L[parent]\n",
    "            \n",
    "            # set the parent to bigger chuld index\n",
    "            parent = swap    \n",
    "            \n",
    "    # return the number of comparisons\n",
    "    return no_comparisons"
   ]
  },
  {
   "cell_type": "code",
   "execution_count": 208,
   "id": "644b25cd",
   "metadata": {},
   "outputs": [],
   "source": [
    "def heapsort(L):\n",
    "# Sorts the list L in place using HeapSort.\n",
    "\n",
    "    # keep track of the number of comparisons\n",
    "    no_comparisons = 0\n",
    "    \n",
    "    # index of last element on the list\n",
    "    last_element = len(L) - 1\n",
    "    \n",
    "    # find the last parent\n",
    "    last_parent = (last_element - 1) // 2\n",
    "    \n",
    "    #loop backwards through all the parents\n",
    "    for parent in range(last_parent, -1, -1):\n",
    "        \n",
    "        # sift down.\n",
    "        no_comparisons = no_comparisons + siftDown(L, parent, last_element)     \n",
    "        \n",
    "    # segregate the list into two parts\n",
    "    #   1. L[end+1:] is a max heap\n",
    "    #   2. each element beyond is greater than everything before it.\n",
    "        \n",
    "    # while there are still elements in the heap\n",
    "    for end in range(last_element, 0, -1):\n",
    "        # swap the element at index 0 to index end\n",
    "        L[0], L[end] = L[end], L[0]  \n",
    "        # fix the heap - root is currently out of place\n",
    "        no_comparisons = no_comparisons + siftDown(L, 0, end - 1) \n",
    "\n",
    "    # return the number of comparisons\n",
    "    return no_comparisons"
   ]
  },
  {
   "cell_type": "code",
   "execution_count": 211,
   "id": "cc44fea4",
   "metadata": {},
   "outputs": [
    {
     "data": {
      "text/plain": [
       "37"
      ]
     },
     "execution_count": 211,
     "metadata": {},
     "output_type": "execute_result"
    }
   ],
   "source": [
    "# Now we have a heapsort and a bubble sort function - We'll be comparing the two later\n",
    "heapsort(L)"
   ]
  },
  {
   "cell_type": "code",
   "execution_count": 212,
   "id": "fd5bbe55",
   "metadata": {},
   "outputs": [
    {
     "data": {
      "text/plain": [
       "[11, 12, 13, 14, 15, 16, 17, 18, 19, 20, 21]"
      ]
     },
     "execution_count": 212,
     "metadata": {},
     "output_type": "execute_result"
    }
   ],
   "source": [
    "L"
   ]
  }
 ],
 "metadata": {
  "kernelspec": {
   "display_name": "Python 3 (ipykernel)",
   "language": "python",
   "name": "python3"
  },
  "language_info": {
   "codemirror_mode": {
    "name": "ipython",
    "version": 3
   },
   "file_extension": ".py",
   "mimetype": "text/x-python",
   "name": "python",
   "nbconvert_exporter": "python",
   "pygments_lexer": "ipython3",
   "version": "3.9.7"
  }
 },
 "nbformat": 4,
 "nbformat_minor": 5
}
