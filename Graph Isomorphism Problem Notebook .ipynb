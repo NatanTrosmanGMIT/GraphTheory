{
 "cells": [
  {
   "cell_type": "markdown",
   "id": "ec8371fa",
   "metadata": {},
   "source": [
    "\n",
    "# Graph Isomorphism\n",
    "***"
   ]
  },
  {
   "cell_type": "code",
   "execution_count": 1,
   "id": "5720c1b9",
   "metadata": {},
   "outputs": [],
   "source": [
    "# A few imports to get us started\n",
    "# Matrices.\n",
    "import numpy as np\n",
    "# Permutations\n",
    "import itertools as it\n",
    "# Graphs.\n",
    "import networkx as nx"
   ]
  },
  {
   "cell_type": "markdown",
   "id": "bef2f665",
   "metadata": {},
   "source": [
    "\n",
    "## Graphs\n",
    "***"
   ]
  },
  {
   "cell_type": "code",
   "execution_count": 2,
   "id": "b12bd88b",
   "metadata": {},
   "outputs": [
    {
     "data": {
      "image/png": "[encoded data removed]",
      "text/plain": [
       "<Figure size 432x288 with 1 Axes>"
      ]
     },
     "metadata": {},
     "output_type": "display_data"
    }
   ],
   "source": [
    "G = nx.Graph()\n",
    "e = [('a', 'b'), ('b', 'c'), ('a', 'c')]\n",
    "G.add_edges_from(e)\n",
    "nx.draw(G, with_labels=True, node_color='pink')"
   ]
  },
  {
   "cell_type": "code",
   "execution_count": 3,
   "id": "e709e8c8",
   "metadata": {},
   "outputs": [
    {
     "data": {
      "text/plain": [
       "array([[0, 1, 1],\n",
       "       [1, 0, 1],\n",
       "       [1, 1, 0]], dtype=uint8)"
      ]
     },
     "execution_count": 3,
     "metadata": {},
     "output_type": "execute_result"
    }
   ],
   "source": [
    "A = nx.to_numpy_array(G).astype(np.uint8)\n",
    "A"
   ]
  },
  {
   "cell_type": "markdown",
   "id": "f128bb7e",
   "metadata": {},
   "source": [
    "\n",
    "## Matrices\n",
    "***"
   ]
  },
  {
   "cell_type": "code",
   "execution_count": 4,
   "id": "cea49046",
   "metadata": {},
   "outputs": [
    {
     "name": "stdout",
     "output_type": "stream",
     "text": [
      "[(0, 1, 2), (0, 2, 1), (1, 0, 2), (1, 2, 0), (2, 0, 1), (2, 1, 0)]\n"
     ]
    }
   ],
   "source": [
    "def mprint(A):\n",
    "    for r in A:\n",
    "        print(str(r)[1:-1])\n",
    "    print()\n",
    "    \n",
    "    \n",
    "perms = it.permutations(range(len(A)))\n",
    "print(list(perms))"
   ]
  },
  {
   "cell_type": "code",
   "execution_count": 5,
   "id": "8b6fd1cd",
   "metadata": {},
   "outputs": [
    {
     "name": "stdout",
     "output_type": "stream",
     "text": [
      "1 0 0\n",
      "0 1 0\n",
      "0 0 1\n",
      "\n",
      "1 0 0\n",
      "0 0 1\n",
      "0 1 0\n",
      "\n",
      "0 1 0\n",
      "1 0 0\n",
      "0 0 1\n",
      "\n",
      "0 1 0\n",
      "0 0 1\n",
      "1 0 0\n",
      "\n",
      "0 0 1\n",
      "1 0 0\n",
      "0 1 0\n",
      "\n",
      "0 0 1\n",
      "0 1 0\n",
      "1 0 0\n",
      "\n"
     ]
    }
   ],
   "source": [
    "perms = it.permutations(range(len(A)))\n",
    "I = np.identity(len(A)).astype(np.uint8)\n",
    "for p in perms:\n",
    "    mprint(I[list(p)])"
   ]
  }
 ],
 "metadata": {
  "kernelspec": {
   "display_name": "Python 3 (ipykernel)",
   "language": "python",
   "name": "python3"
  },
  "language_info": {
   "codemirror_mode": {
    "name": "ipython",
    "version": 3
   },
   "file_extension": ".py",
   "mimetype": "text/x-python",
   "name": "python",
   "nbconvert_exporter": "python",
   "pygments_lexer": "ipython3",
   "version": "3.9.7"
  }
 },
 "nbformat": 4,
 "nbformat_minor": 5
}
