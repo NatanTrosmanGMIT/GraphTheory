{
 "cells": [
  {
   "cell_type": "markdown",
   "id": "ec8371fa",
   "metadata": {},
   "source": [
    "\n",
    "# This is the basics of Python\n",
    "***\n",
    "#### Examples:"
   ]
  },
  {
   "cell_type": "code",
   "execution_count": 13,
   "id": "5720c1b9",
   "metadata": {},
   "outputs": [],
   "source": [
    "i=1\n",
    "j=2"
   ]
  },
  {
   "cell_type": "code",
   "execution_count": 14,
   "id": "8c5765e7",
   "metadata": {},
   "outputs": [
    {
     "data": {
      "text/plain": [
       "(1, 2)"
      ]
     },
     "execution_count": 14,
     "metadata": {},
     "output_type": "execute_result"
    }
   ],
   "source": [
    "i,j"
   ]
  },
  {
   "cell_type": "code",
   "execution_count": 15,
   "id": "b12bd88b",
   "metadata": {},
   "outputs": [],
   "source": [
    "i=j"
   ]
  },
  {
   "cell_type": "code",
   "execution_count": 16,
   "id": "35f1b9d3",
   "metadata": {},
   "outputs": [
    {
     "data": {
      "text/plain": [
       "(2, 2)"
      ]
     },
     "execution_count": 16,
     "metadata": {},
     "output_type": "execute_result"
    }
   ],
   "source": [
    "i,j"
   ]
  },
  {
   "cell_type": "code",
   "execution_count": 17,
   "id": "0ec243b9",
   "metadata": {},
   "outputs": [
    {
     "data": {
      "text/plain": [
       "4"
      ]
     },
     "execution_count": 17,
     "metadata": {},
     "output_type": "execute_result"
    }
   ],
   "source": [
    "i+j\n"
   ]
  },
  {
   "cell_type": "markdown",
   "id": "40420582",
   "metadata": {},
   "source": [
    "<h3>Measure some strings"
   ]
  },
  {
   "cell_type": "code",
   "execution_count": 18,
   "id": "101f4647",
   "metadata": {},
   "outputs": [
    {
     "name": "stdout",
     "output_type": "stream",
     "text": [
      "sock 4\n",
      "nugget 6\n",
      "demonstration 13\n",
      "pneumonoultramicroscopicsilicovolcanoconiosis 45\n"
     ]
    }
   ],
   "source": [
    "words = ['sock', 'nugget', 'demonstration','pneumonoultramicroscopicsilicovolcanoconiosis']\n",
    "for w in words:\n",
    "    print(w, len(w))"
   ]
  }
 ],
 "metadata": {
  "kernelspec": {
   "display_name": "Python 3 (ipykernel)",
   "language": "python",
   "name": "python3"
  },
  "language_info": {
   "codemirror_mode": {
    "name": "ipython",
    "version": 3
   },
   "file_extension": ".py",
   "mimetype": "text/x-python",
   "name": "python",
   "nbconvert_exporter": "python",
   "pygments_lexer": "ipython3",
   "version": "3.9.7"
  }
 },
 "nbformat": 4,
 "nbformat_minor": 5
}
